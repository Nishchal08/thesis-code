{
 "cells": [
  {
   "cell_type": "markdown",
   "id": "ea815b44",
   "metadata": {},
   "source": [
    "# Step 1: Data Preparation and Preprocessing\n",
    "\n",
    "This notebook performs batch preprocessing of RAVDESS audio files for emotion recognition. The main steps include:\n",
    "\n",
    "**Audio Loading:** Load RAVDESS audio files corresponding to the five target emotions: Neutral, Angry, Happy, Sad, and Fearful. If the dataset includes additional emotions (e.g., calm, surprise, disgust), filter them out so only the five target categories remain. Ensure class labels are correctly assigned for these five categories.\n",
    "\n",
    "**Resampling:** Convert all audio clips to a consistent sampling rate of 16,000 Hz (16 kHz). This down-sampling is a common practice to reduce data size and match typical speech processing settings ([ieeecai.org](https://ieeecai.org)). RAVDESS originals are high-quality 44.1–48 kHz ([arxiv.org](https://arxiv.org)), but 16 kHz is sufficient to capture vocal frequency range while easing computation ([ieeecai.org](https://ieeecai.org)).\n",
    "\n",
    "**Duration and Silence Trimming:** Optionally, trim leading/trailing silences and ensure each clip has a reasonable length. Most RAVDESS clips are a few seconds long; maintaining the full utterance is usually fine. You may apply a voice activity detection or simple energy threshold to remove long silences.\n",
    "\n",
    "**Normalization:** Normalize audio amplitude (for example, to -3 dB FS) or use per-clip volume normalization. This ensures that energy features reflect relative dynamics rather than microphone gain differences.\n"
   ]
  },
  {
   "cell_type": "markdown",
   "id": "9257c14d",
   "metadata": {},
   "source": [
    "## Install dependencies (run if needed)"
   ]
  },
  {
   "cell_type": "code",
   "execution_count": 1,
   "id": "87090f15",
   "metadata": {},
   "outputs": [],
   "source": [
    "\n",
    "# %pip install librosa soundfile numpy pandas tqdm matplotlib\n",
    "# In Colab you may also need system ffmpeg:\n",
    "# !apt-get -y install ffmpeg\n"
   ]
  },
  {
   "cell_type": "markdown",
   "id": "b714812b",
   "metadata": {},
   "source": [
    "## Config"
   ]
  },
  {
   "cell_type": "code",
   "execution_count": 2,
   "id": "5d96b219",
   "metadata": {},
   "outputs": [
    {
     "name": "stdout",
     "output_type": "stream",
     "text": [
      "RAW_DIR exists?: True | is_dir?: True\n",
      "RAW_DIR resolved: /Users/nishchalpokhrel/Documents/project/thesis_code/data/raw\n",
      "PROCESSED_DIR   : /Users/nishchalpokhrel/Documents/project/thesis_code/data/processed\n"
     ]
    }
   ],
   "source": [
    "\n",
    "from pathlib import Path\n",
    "\n",
    "# Root containing Actor_01, Actor_02, ... (adjust if nested deeper)\n",
    "RAW_DIR       = Path(\"/Users/nishchalpokhrel/Documents/project/thesis_code/data/raw\")\n",
    "# If your data is under .../ravdess/Audio_Speech_Actors_01-24/Actor_01, set:\n",
    "# RAW_DIR = Path(\"data/raw/ravdess/Audio_Speech_Actors_01-24\")\n",
    "\n",
    "PROCESSED_DIR = Path(\"/Users/nishchalpokhrel/Documents/project/thesis_code/data/processed\")\n",
    "TARGET_SR     = 16000\n",
    "\n",
    "# Preprocessing toggles\n",
    "DO_TRIM_SILENCE   = True\n",
    "TRIM_TOP_DB       = 20\n",
    "TRIM_FRAME_LENGTH = 2048\n",
    "TRIM_HOP_LENGTH   = 512\n",
    "\n",
    "DO_NORMALIZE = True\n",
    "PEAK_DBFS    = -3.0\n",
    "\n",
    "# Preserve Actor_XX subfolders in output\n",
    "PRESERVE_ACTOR_SUBDIRS = True\n",
    "\n",
    "# Extensions to scan (include both cases)\n",
    "AUDIO_EXTS = (\".wav\", \".WAV\")\n",
    "\n",
    "print(\"RAW_DIR exists?:\", RAW_DIR.exists(), \"| is_dir?:\", RAW_DIR.is_dir())\n",
    "print(\"RAW_DIR resolved:\", RAW_DIR.resolve())\n",
    "print(\"PROCESSED_DIR   :\", PROCESSED_DIR.resolve())\n"
   ]
  },
  {
   "cell_type": "markdown",
   "id": "c4aea76e",
   "metadata": {},
   "source": [
    "## Imports & helpers"
   ]
  },
  {
   "cell_type": "code",
   "execution_count": 3,
   "id": "2a8c829a",
   "metadata": {},
   "outputs": [],
   "source": [
    "\n",
    "import re\n",
    "from typing import Dict, List\n",
    "import numpy as np\n",
    "import pandas as pd\n",
    "from tqdm import tqdm\n",
    "import librosa, soundfile as sf\n",
    "import matplotlib.pyplot as plt \n",
    "from scipy.signal import resample_poly \n",
    "import math                             \n",
    "\n",
    "# Emotions to keep (RAVDESS code -> label)\n",
    "EMOTION_CODE_TO_NAME: Dict[str, str] = {\n",
    "    \"01\": \"neutral\",\n",
    "    \"03\": \"happy\",\n",
    "    \"04\": \"sad\",\n",
    "    \"05\": \"angry\",\n",
    "    \"06\": \"fearful\",\n",
    "}\n",
    "\n",
    "# RAVDESS filename pattern: MM-CC-EE-SS-RR-AA (EE is 3rd token)\n",
    "two_digit = r\"(\\d{2})\"\n",
    "ravdess_pattern = re.compile(\n",
    "    rf\"^{two_digit}-{two_digit}-{two_digit}-{two_digit}-{two_digit}-{two_digit}-{two_digit}\"\n",
    ")\n",
    "\n",
    "def parse_emotion_code(p: Path) -> str:\n",
    "    m = ravdess_pattern.match(p.name)\n",
    "    return m.group(3) if m else \"\"\n",
    "\n",
    "def dbfs_to_linear(db: float) -> float:\n",
    "    return 10.0 ** (db / 20.0)\n",
    "\n",
    "def peak_normalize(y: np.ndarray, target_dbfs: float = -3.0, eps: float = 1e-9) -> np.ndarray:\n",
    "    peak = float(np.max(np.abs(y)) + eps)\n",
    "    target_peak = dbfs_to_linear(target_dbfs)\n",
    "    y = y * (target_peak / peak)\n",
    "    return np.clip(y, -1.0, 1.0)\n",
    "\n",
    "def trim_silence(y: np.ndarray, sr: int) -> np.ndarray:\n",
    "    yt, _ = librosa.effects.trim(\n",
    "        y, top_db=TRIM_TOP_DB, frame_length=TRIM_FRAME_LENGTH, hop_length=TRIM_HOP_LENGTH\n",
    "    )\n",
    "    return yt\n",
    "\n",
    "def resample_if_needed(y, sr, target_sr):\n",
    "    if sr == target_sr:\n",
    "        return y\n",
    "    g = math.gcd(sr, target_sr)  # e.g., gcd(48000,16000)=16000\n",
    "    up = target_sr // g          # 1\n",
    "    down = sr // g               # 3\n",
    "    return resample_poly(y, up, down)  # high-quality polyphase resample\n",
    "\n"
   ]
  },
  {
   "cell_type": "markdown",
   "id": "aaeb9b32",
   "metadata": {},
   "source": [
    "## Discover `Actor_*` folders (any depth)"
   ]
  },
  {
   "cell_type": "code",
   "execution_count": 4,
   "id": "d1ba7771",
   "metadata": {},
   "outputs": [
    {
     "name": "stdout",
     "output_type": "stream",
     "text": [
      "Found 24 actor folders under /Users/nishchalpokhrel/Documents/project/thesis_code/data/raw\n",
      "• /Users/nishchalpokhrel/Documents/project/thesis_code/data/raw/RAVDESS/Actor_01\n",
      "• /Users/nishchalpokhrel/Documents/project/thesis_code/data/raw/RAVDESS/Actor_02\n",
      "• /Users/nishchalpokhrel/Documents/project/thesis_code/data/raw/RAVDESS/Actor_03\n",
      "• /Users/nishchalpokhrel/Documents/project/thesis_code/data/raw/RAVDESS/Actor_04\n",
      "• /Users/nishchalpokhrel/Documents/project/thesis_code/data/raw/RAVDESS/Actor_05\n",
      "• /Users/nishchalpokhrel/Documents/project/thesis_code/data/raw/RAVDESS/Actor_06\n",
      "• /Users/nishchalpokhrel/Documents/project/thesis_code/data/raw/RAVDESS/Actor_07\n",
      "• /Users/nishchalpokhrel/Documents/project/thesis_code/data/raw/RAVDESS/Actor_08\n",
      "• /Users/nishchalpokhrel/Documents/project/thesis_code/data/raw/RAVDESS/Actor_09\n",
      "• /Users/nishchalpokhrel/Documents/project/thesis_code/data/raw/RAVDESS/Actor_10\n"
     ]
    }
   ],
   "source": [
    "\n",
    "# Find all directories whose name starts with 'Actor_' (case-insensitive)\n",
    "actor_dirs = sorted({p for p in RAW_DIR.rglob(\"*\") if p.is_dir() and p.name.lower().startswith(\"actor_\")})\n",
    "print(f\"Found {len(actor_dirs)} actor folders under {RAW_DIR}\")\n",
    "for p in actor_dirs[:10]:\n",
    "    print(\"•\", p)\n",
    "if not actor_dirs:\n",
    "    print(\"No Actor_* folders detected. If your dataset has 'Audio_Speech_Actors_01-24', set RAW_DIR to that folder.\")\n"
   ]
  },
  {
   "cell_type": "markdown",
   "id": "f2492ff2",
   "metadata": {},
   "source": [
    "## Dry run: show a few WAVs per first actor (no processing)"
   ]
  },
  {
   "cell_type": "code",
   "execution_count": 5,
   "id": "600540ac",
   "metadata": {},
   "outputs": [
    {
     "name": "stdout",
     "output_type": "stream",
     "text": [
      "First actor dir: /Users/nishchalpokhrel/Documents/project/thesis_code/data/raw/RAVDESS/Actor_01\n",
      "Sample WAVs in Actor_01: 10\n",
      "• /Users/nishchalpokhrel/Documents/project/thesis_code/data/raw/RAVDESS/Actor_01/03-01-01-01-01-01-01.wav\n",
      "• /Users/nishchalpokhrel/Documents/project/thesis_code/data/raw/RAVDESS/Actor_01/03-01-01-01-01-02-01.wav\n",
      "• /Users/nishchalpokhrel/Documents/project/thesis_code/data/raw/RAVDESS/Actor_01/03-01-01-01-02-01-01.wav\n",
      "• /Users/nishchalpokhrel/Documents/project/thesis_code/data/raw/RAVDESS/Actor_01/03-01-01-01-02-02-01.wav\n",
      "• /Users/nishchalpokhrel/Documents/project/thesis_code/data/raw/RAVDESS/Actor_01/03-01-02-01-01-01-01.wav\n",
      "• /Users/nishchalpokhrel/Documents/project/thesis_code/data/raw/RAVDESS/Actor_01/03-01-02-01-01-02-01.wav\n",
      "• /Users/nishchalpokhrel/Documents/project/thesis_code/data/raw/RAVDESS/Actor_01/03-01-02-01-02-01-01.wav\n",
      "• /Users/nishchalpokhrel/Documents/project/thesis_code/data/raw/RAVDESS/Actor_01/03-01-02-01-02-02-01.wav\n",
      "• /Users/nishchalpokhrel/Documents/project/thesis_code/data/raw/RAVDESS/Actor_01/03-01-02-02-01-01-01.wav\n",
      "• /Users/nishchalpokhrel/Documents/project/thesis_code/data/raw/RAVDESS/Actor_01/03-01-02-02-01-02-01.wav\n"
     ]
    }
   ],
   "source": [
    "\n",
    "sample_listed = 0\n",
    "if actor_dirs:\n",
    "    first_actor = actor_dirs[0]\n",
    "    print(\"First actor dir:\", first_actor)\n",
    "    demo = []\n",
    "    for ext in AUDIO_EXTS:\n",
    "        demo.extend(first_actor.rglob(f\"*{ext}\"))\n",
    "    demo = sorted(demo)[:10]\n",
    "    print(f\"Sample WAVs in {first_actor.name}: {len(demo)}\")\n",
    "    for p in demo:\n",
    "        print(\"•\", p)\n",
    "else:\n",
    "    print(\"No actors to show. Adjust RAW_DIR and rerun discovery.\")\n"
   ]
  },
  {
   "cell_type": "markdown",
   "id": "9fa2354e",
   "metadata": {},
   "source": [
    "## Process all actors and save"
   ]
  },
  {
   "cell_type": "code",
   "execution_count": 6,
   "id": "18d81265",
   "metadata": {},
   "outputs": [
    {
     "name": "stdout",
     "output_type": "stream",
     "text": [
      "Actor_01: 60 files\n"
     ]
    },
    {
     "name": "stderr",
     "output_type": "stream",
     "text": [
      "                                                         \r"
     ]
    },
    {
     "name": "stdout",
     "output_type": "stream",
     "text": [
      "Actor_02: 60 files\n"
     ]
    },
    {
     "name": "stderr",
     "output_type": "stream",
     "text": [
      "                                                          \r"
     ]
    },
    {
     "name": "stdout",
     "output_type": "stream",
     "text": [
      "Actor_03: 60 files\n"
     ]
    },
    {
     "name": "stderr",
     "output_type": "stream",
     "text": [
      "                                                          \r"
     ]
    },
    {
     "name": "stdout",
     "output_type": "stream",
     "text": [
      "Actor_04: 60 files\n"
     ]
    },
    {
     "name": "stderr",
     "output_type": "stream",
     "text": [
      "                                                          \r"
     ]
    },
    {
     "name": "stdout",
     "output_type": "stream",
     "text": [
      "Actor_05: 60 files\n"
     ]
    },
    {
     "name": "stderr",
     "output_type": "stream",
     "text": [
      "                                                          \r"
     ]
    },
    {
     "name": "stdout",
     "output_type": "stream",
     "text": [
      "Actor_06: 60 files\n"
     ]
    },
    {
     "name": "stderr",
     "output_type": "stream",
     "text": [
      "                                                          \r"
     ]
    },
    {
     "name": "stdout",
     "output_type": "stream",
     "text": [
      "Actor_07: 60 files\n"
     ]
    },
    {
     "name": "stderr",
     "output_type": "stream",
     "text": [
      "                                                          \r"
     ]
    },
    {
     "name": "stdout",
     "output_type": "stream",
     "text": [
      "Actor_08: 60 files\n"
     ]
    },
    {
     "name": "stderr",
     "output_type": "stream",
     "text": [
      "                                                          \r"
     ]
    },
    {
     "name": "stdout",
     "output_type": "stream",
     "text": [
      "Actor_09: 60 files\n"
     ]
    },
    {
     "name": "stderr",
     "output_type": "stream",
     "text": [
      "                                                          \r"
     ]
    },
    {
     "name": "stdout",
     "output_type": "stream",
     "text": [
      "Actor_10: 60 files\n"
     ]
    },
    {
     "name": "stderr",
     "output_type": "stream",
     "text": [
      "                                                          \r"
     ]
    },
    {
     "name": "stdout",
     "output_type": "stream",
     "text": [
      "Actor_11: 60 files\n"
     ]
    },
    {
     "name": "stderr",
     "output_type": "stream",
     "text": [
      "                                                          \r"
     ]
    },
    {
     "name": "stdout",
     "output_type": "stream",
     "text": [
      "Actor_12: 60 files\n"
     ]
    },
    {
     "name": "stderr",
     "output_type": "stream",
     "text": [
      "                                                          \r"
     ]
    },
    {
     "name": "stdout",
     "output_type": "stream",
     "text": [
      "Actor_13: 60 files\n"
     ]
    },
    {
     "name": "stderr",
     "output_type": "stream",
     "text": [
      "                                                          \r"
     ]
    },
    {
     "name": "stdout",
     "output_type": "stream",
     "text": [
      "Actor_14: 60 files\n"
     ]
    },
    {
     "name": "stderr",
     "output_type": "stream",
     "text": [
      "                                                          \r"
     ]
    },
    {
     "name": "stdout",
     "output_type": "stream",
     "text": [
      "Actor_15: 60 files\n"
     ]
    },
    {
     "name": "stderr",
     "output_type": "stream",
     "text": [
      "                                                          \r"
     ]
    },
    {
     "name": "stdout",
     "output_type": "stream",
     "text": [
      "Actor_16: 60 files\n"
     ]
    },
    {
     "name": "stderr",
     "output_type": "stream",
     "text": [
      "                                                          \r"
     ]
    },
    {
     "name": "stdout",
     "output_type": "stream",
     "text": [
      "Actor_17: 60 files\n"
     ]
    },
    {
     "name": "stderr",
     "output_type": "stream",
     "text": [
      "                                                          \r"
     ]
    },
    {
     "name": "stdout",
     "output_type": "stream",
     "text": [
      "Actor_18: 60 files\n"
     ]
    },
    {
     "name": "stderr",
     "output_type": "stream",
     "text": [
      "                                                          \r"
     ]
    },
    {
     "name": "stdout",
     "output_type": "stream",
     "text": [
      "Actor_19: 60 files\n"
     ]
    },
    {
     "name": "stderr",
     "output_type": "stream",
     "text": [
      "                                                          \r"
     ]
    },
    {
     "name": "stdout",
     "output_type": "stream",
     "text": [
      "Actor_20: 60 files\n"
     ]
    },
    {
     "name": "stderr",
     "output_type": "stream",
     "text": [
      "                                                          \r"
     ]
    },
    {
     "name": "stdout",
     "output_type": "stream",
     "text": [
      "Actor_21: 60 files\n"
     ]
    },
    {
     "name": "stderr",
     "output_type": "stream",
     "text": [
      "                                                          \r"
     ]
    },
    {
     "name": "stdout",
     "output_type": "stream",
     "text": [
      "Actor_22: 60 files\n"
     ]
    },
    {
     "name": "stderr",
     "output_type": "stream",
     "text": [
      "                                                          \r"
     ]
    },
    {
     "name": "stdout",
     "output_type": "stream",
     "text": [
      "Actor_23: 60 files\n"
     ]
    },
    {
     "name": "stderr",
     "output_type": "stream",
     "text": [
      "                                                          \r"
     ]
    },
    {
     "name": "stdout",
     "output_type": "stream",
     "text": [
      "Actor_24: 60 files\n"
     ]
    },
    {
     "name": "stderr",
     "output_type": "stream",
     "text": [
      "                                                          "
     ]
    },
    {
     "name": "stdout",
     "output_type": "stream",
     "text": [
      "Total WAV files seen across actors: 1440\n"
     ]
    },
    {
     "name": "stderr",
     "output_type": "stream",
     "text": [
      "\r"
     ]
    }
   ],
   "source": [
    "\n",
    "rows = []\n",
    "PROCESSED_DIR.mkdir(parents=True, exist_ok=True)\n",
    "\n",
    "total_seen = 0\n",
    "for actor in actor_dirs:\n",
    "    wavs = []\n",
    "    for ext in AUDIO_EXTS:\n",
    "        wavs.extend(actor.rglob(f\"*{ext}\"))\n",
    "    wavs = sorted(wavs)\n",
    "    print(f\"{actor.name}: {len(wavs)} files\")\n",
    "    total_seen += len(wavs)\n",
    "\n",
    "    for fpath in tqdm(wavs, desc=f\"{actor.name}\", leave=False):\n",
    "        emo_code = parse_emotion_code(fpath)\n",
    "        if emo_code not in EMOTION_CODE_TO_NAME:\n",
    "            continue\n",
    "        emotion = EMOTION_CODE_TO_NAME[emo_code]\n",
    "\n",
    "        try:\n",
    "            y, sr = sf.read(str(fpath), always_2d=False)\n",
    "            if y.ndim > 1:\n",
    "                y = y.mean(axis=1)\n",
    "            y = y.astype(np.float32, copy=False)\n",
    "\n",
    "            dur_before = len(y) / sr\n",
    "            peak_before = float(np.max(np.abs(y)))\n",
    "\n",
    "            if DO_TRIM_SILENCE:\n",
    "                y = trim_silence(y, sr)\n",
    "\n",
    "            y = resample_if_needed(y, sr, TARGET_SR)\n",
    "\n",
    "            if DO_NORMALIZE:\n",
    "                y = peak_normalize(y, PEAK_DBFS)\n",
    "\n",
    "            dur_after = len(y) / TARGET_SR\n",
    "            peak_after = float(np.max(np.abs(y)))\n",
    "\n",
    "            # Output folder\n",
    "            out_dir = PROCESSED_DIR / emotion / actor.name if PRESERVE_ACTOR_SUBDIRS else PROCESSED_DIR / emotion\n",
    "            out_dir.mkdir(parents=True, exist_ok=True)\n",
    "            out_path = out_dir / fpath.name\n",
    "\n",
    "            sf.write(str(out_path), y, TARGET_SR, subtype=\"PCM_16\")\n",
    "\n",
    "            rows.append({\n",
    "                \"actor\": actor.name,\n",
    "                \"in_path\": str(fpath),\n",
    "                \"out_path\": str(out_path),\n",
    "                \"emotion\": emotion,\n",
    "                \"emotion_code\": emo_code,\n",
    "                \"orig_sr\": sr,\n",
    "                \"target_sr\": TARGET_SR,\n",
    "                \"dur_before_sec\": dur_before,\n",
    "                \"dur_after_sec\": dur_after,\n",
    "                \"peak_before\": peak_before,\n",
    "                \"peak_after\": peak_after,\n",
    "                \"trimmed\": DO_TRIM_SILENCE,\n",
    "                \"normalized_to_dbfs\": PEAK_DBFS if DO_NORMALIZE else None,\n",
    "                \"error\": None,\n",
    "            })\n",
    "\n",
    "        except Exception as e:\n",
    "            rows.append({\n",
    "                \"actor\": actor.name,\n",
    "                \"in_path\": str(fpath),\n",
    "                \"out_path\": None,\n",
    "                \"emotion\": None,\n",
    "                \"emotion_code\": None,\n",
    "                \"orig_sr\": None,\n",
    "                \"target_sr\": TARGET_SR,\n",
    "                \"dur_before_sec\": None,\n",
    "                \"dur_after_sec\": None,\n",
    "                \"peak_before\": None,\n",
    "                \"peak_after\": None,\n",
    "                \"trimmed\": DO_TRIM_SILENCE,\n",
    "                \"normalized_to_dbfs\": PEAK_DBFS if DO_NORMALIZE else None,\n",
    "                \"error\": str(e),\n",
    "            })\n",
    "\n",
    "print(\"Total WAV files seen across actors:\", total_seen)\n"
   ]
  },
  {
   "cell_type": "markdown",
   "id": "e88ae289",
   "metadata": {},
   "source": [
    "## Save metadata & quick stats"
   ]
  },
  {
   "cell_type": "code",
   "execution_count": null,
   "id": "7236c652",
   "metadata": {},
   "outputs": [
    {
     "name": "stdout",
     "output_type": "stream",
     "text": [
      "Saved metadata → /Users/nishchalpokhrel/Documents/project/thesis_code/data/processed/metadata.csv\n",
      "Processed 864 files into /Users/nishchalpokhrel/Documents/project/thesis_code/data/processed\n",
      "Emotions: ['angry', 'fearful', 'happy', 'neutral', 'sad']\n",
      "      actor  emotion  count\n",
      "0  Actor_01    angry      8\n",
      "1  Actor_01  fearful      8\n",
      "2  Actor_01    happy      8\n",
      "3  Actor_01  neutral      4\n",
      "4  Actor_01      sad      8\n"
     ]
    }
   ],
   "source": [
    "\n",
    "import pandas as pd\n",
    "\n",
    "meta = pd.DataFrame(rows)\n",
    "meta_path = PROCESSED_DIR / \"metadata.csv\"\n",
    "meta.to_csv(meta_path, index=False)\n",
    "print(f\"Saved metadata → {meta_path.resolve()}\")\n",
    "\n",
    "kept = meta[meta['out_path'].notna() & meta['emotion'].notna()]\n",
    "print(f\"Processed {len(kept)} files into {PROCESSED_DIR}\")\n",
    "if len(kept):\n",
    "    print(\"Emotions:\", sorted(kept['emotion'].unique()))\n",
    "    print(kept.groupby(['actor','emotion']).size().reset_index(name='count').head())\n",
    "else:\n",
    "    print(\"No files processed. Verify RAW_DIR and file naming.\")\n"
   ]
  },
  {
   "cell_type": "markdown",
   "id": "e4030b58",
   "metadata": {},
   "source": [
    "## Quick plots"
   ]
  },
  {
   "cell_type": "code",
   "execution_count": 8,
   "id": "51dc677d",
   "metadata": {},
   "outputs": [
    {
     "data": {
      "image/png": "[encoded data removed]",
      "text/plain": [
       "<Figure size 640x480 with 1 Axes>"
      ]
     },
     "metadata": {},
     "output_type": "display_data"
    }
   ],
   "source": [
    "\n",
    "if len(kept):\n",
    "    import matplotlib.pyplot as plt\n",
    "    plt.figure(); kept['emotion'].value_counts().sort_index().plot(kind='bar')\n",
    "    plt.xlabel('Emotion'); plt.ylabel('Count'); plt.title('Processed Clips per Emotion'); plt.show()\n"
   ]
  }
 ],
 "metadata": {
  "kernelspec": {
   "display_name": ".venv.thesis",
   "language": "python",
   "name": "python3"
  },
  "language_info": {
   "codemirror_mode": {
    "name": "ipython",
    "version": 3
   },
   "file_extension": ".py",
   "mimetype": "text/x-python",
   "name": "python",
   "nbconvert_exporter": "python",
   "pygments_lexer": "ipython3",
   "version": "3.12.7"
  }
 },
 "nbformat": 4,
 "nbformat_minor": 5
}
