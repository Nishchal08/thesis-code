{
 "cells": [
  {
   "cell_type": "markdown",
   "id": "03633902",
   "metadata": {},
   "source": [
    "\n",
    "# Step 3 — Dimensionality Reduction with PCA (→ 3D for Quantum)\n",
    "\n",
    "Reduce the 16-D features from Step 2 to **3 principal components** for the quantum pipeline.\n",
    "\n",
    "- Load **scaled features** (or scale if only raw features exist)\n",
    "- **Group split by actor** to avoid speaker leakage (default)\n",
    "- **Fit PCA on TRAIN ONLY**, then transform train/test\n",
    "- Save: `pca_model.pkl`, `pca_explained_variance.csv`, `pca3_train.csv`, `pca3_test.csv`\n"
   ]
  },
  {
   "cell_type": "markdown",
   "id": "cfb56103",
   "metadata": {},
   "source": [
    "## Install (run if needed)"
   ]
  },
  {
   "cell_type": "code",
   "execution_count": 1,
   "id": "8dc1dcc7",
   "metadata": {},
   "outputs": [],
   "source": [
    "\n",
    "# %pip install numpy pandas scikit-learn matplotlib joblib\n"
   ]
  },
  {
   "cell_type": "markdown",
   "id": "52b093bb",
   "metadata": {},
   "source": [
    "## Config"
   ]
  },
  {
   "cell_type": "code",
   "execution_count": 2,
   "id": "8d8be29b",
   "metadata": {},
   "outputs": [
    {
     "name": "stdout",
     "output_type": "stream",
     "text": [
      "BASE_DATA = /Users/nishchalpokhrel/Documents/project/thesis_code/data\n",
      "Looking for: /Users/nishchalpokhrel/Documents/project/thesis_code/data/processed/features_16d_scaled.csv\n"
     ]
    }
   ],
   "source": [
    "\n",
    "from pathlib import Path\n",
    "\n",
    "# Place this notebook in thesis_code/notebooks/\n",
    "BASE_DATA = Path(\"/Users/nishchalpokhrel/Documents/project/thesis_code/data\")  # sibling of notebooks/\n",
    "# If you run from elsewhere, set absolute path:\n",
    "# BASE_DATA = Path(\"/Users/nishchalpokhrel/Documents/project/thesis_code/data\")\n",
    "\n",
    "PROCESSED_DIR = BASE_DATA / \"processed\"\n",
    "\n",
    "# Inputs from Step 2\n",
    "FEATURES_SCALED_CSV = PROCESSED_DIR / \"features_16d_scaled.csv\"\n",
    "FEATURES_RAW_CSV    = PROCESSED_DIR / \"features_16d.csv\"\n",
    "SCALER_IN_PATH      = PROCESSED_DIR / \"scaler_standard.pkl\"  # optional\n",
    "\n",
    "# Outputs\n",
    "PCA_MODEL_PATH = PROCESSED_DIR / \"pca_model.pkl\"\n",
    "PCA_INFO_CSV   = PROCESSED_DIR / \"pca_explained_variance.csv\"\n",
    "#PCA_TRAIN_CSV  = PROCESSED_DIR / \"pca3_train.csv\"\n",
    "#PCA_TEST_CSV   = PROCESSED_DIR / \"pca3_test.csv\"\n",
    "\n",
    "# Settings\n",
    "N_COMPONENTS    = 6          # keep 3 PCs for quantum pipeline\n",
    "VARIANCE_TARGET = None       # e.g., 0.90 to auto-choose k; leave None to force N_COMPONENTS\n",
    "TEST_SIZE       = 0.2\n",
    "RANDOM_STATE    = 42\n",
    "USE_GROUP_SPLIT = True       # split by actor to avoid speaker leakage\n",
    "\n",
    "print(\"BASE_DATA =\", BASE_DATA.resolve())\n",
    "print(\"Looking for:\", FEATURES_SCALED_CSV.resolve())\n"
   ]
  },
  {
   "cell_type": "markdown",
   "id": "3b4c7fca",
   "metadata": {},
   "source": [
    "## Imports & helpers"
   ]
  },
  {
   "cell_type": "code",
   "execution_count": 3,
   "id": "924b946d",
   "metadata": {},
   "outputs": [],
   "source": [
    "\n",
    "import numpy as np\n",
    "import pandas as pd\n",
    "from sklearn.model_selection import GroupShuffleSplit, StratifiedShuffleSplit\n",
    "from sklearn.preprocessing import StandardScaler\n",
    "from sklearn.decomposition import PCA\n",
    "import joblib\n",
    "import matplotlib.pyplot as plt\n",
    "\n",
    "FEAT_COLS = [f\"mfcc_{i}\" for i in range(13)] + [\"pitch_mean\", \"rms_mean\", \"centroid_mean\"]\n",
    "\n",
    "def load_or_scale_features():\n",
    "    \"\"\"Load scaled features if available; else scale raw features here.\"\"\"\n",
    "    if FEATURES_SCALED_CSV.exists():\n",
    "        df = pd.read_csv(FEATURES_SCALED_CSV)\n",
    "        src = \"scaled\"\n",
    "        scaler = joblib.load(SCALER_IN_PATH) if SCALER_IN_PATH.exists() else None\n",
    "        return df, src, scaler\n",
    "    if FEATURES_RAW_CSV.exists():\n",
    "        df = pd.read_csv(FEATURES_RAW_CSV)\n",
    "        df = df.dropna(subset=FEAT_COLS).copy()\n",
    "        scaler = StandardScaler()\n",
    "        df[FEAT_COLS] = scaler.fit_transform(df[FEAT_COLS])\n",
    "        src = \"scaled_from_raw\"\n",
    "        return df, src, scaler\n",
    "    raise FileNotFoundError(\"Missing features_16d_scaled.csv and features_16d.csv in processed/. Run Step 2 first.\")\n",
    "\n",
    "def make_splits(df, test_size=0.2, random_state=42, use_group_split=True):\n",
    "    \"\"\"Group split by actor (if available) to avoid speaker leakage; else stratified by emotion.\"\"\"\n",
    "    y = df[\"emotion\"].astype(str)\n",
    "    has_actor = (\"actor\" in df.columns) and df[\"actor\"].notna().any()\n",
    "    if use_group_split and has_actor:\n",
    "        groups = df[\"actor\"].astype(str)\n",
    "        splitter = GroupShuffleSplit(n_splits=1, test_size=test_size, random_state=random_state)\n",
    "        train_idx, test_idx = next(splitter.split(df[FEAT_COLS], y, groups=groups))\n",
    "    else:\n",
    "        splitter = StratifiedShuffleSplit(n_splits=1, test_size=test_size, random_state=random_state)\n",
    "        train_idx, test_idx = next(splitter.split(df[FEAT_COLS], y))\n",
    "    return df.iloc[train_idx].reset_index(drop=True), df.iloc[test_idx].reset_index(drop=True)\n",
    "\n",
    "def fit_pca_on_train(X_train, n_components=3, variance_target=None, random_state=42):\n",
    "    \"\"\"Fit PCA on training set; optionally auto-select k by variance target.\"\"\"\n",
    "    pca_full = PCA(random_state=random_state).fit(X_train)\n",
    "    evr = pca_full.explained_variance_ratio_\n",
    "    if variance_target is not None:\n",
    "        k = int(np.searchsorted(np.cumsum(evr), variance_target) + 1)\n",
    "        k = max(1, min(k, X_train.shape[1]))\n",
    "    else:\n",
    "        k = n_components\n",
    "    pca = PCA(n_components=k, random_state=random_state).fit(X_train)\n",
    "    return pca, {\"evr\": evr, \"cum_evr\": np.cumsum(evr), \"chosen_k\": k}\n"
   ]
  },
  {
   "cell_type": "markdown",
   "id": "52075557",
   "metadata": {},
   "source": [
    "## Load features (prefer scaled)"
   ]
  },
  {
   "cell_type": "code",
   "execution_count": 4,
   "id": "1463afc3",
   "metadata": {},
   "outputs": [
    {
     "name": "stdout",
     "output_type": "stream",
     "text": [
      "Loaded: scaled | rows: 864\n",
      "  emotion     actor    mfcc_0    mfcc_1    mfcc_2    mfcc_3    mfcc_4\n",
      "0   angry  Actor_01 -0.259571 -0.302047  0.919673  0.557987  0.425216\n",
      "1   angry  Actor_01  1.144918 -0.452239  1.018404  0.214387  0.260662\n",
      "2   angry  Actor_01  0.797066 -0.043544  1.244765  0.927850  0.563087\n"
     ]
    }
   ],
   "source": [
    "\n",
    "df, used_src, loaded_scaler = load_or_scale_features()\n",
    "print(\"Loaded:\", used_src, \"| rows:\", len(df))\n",
    "print(df[['emotion','actor'] + FEAT_COLS[:5]].head(3))\n"
   ]
  },
  {
   "cell_type": "markdown",
   "id": "c50098bf",
   "metadata": {},
   "source": [
    "## Train/Test split"
   ]
  },
  {
   "cell_type": "code",
   "execution_count": 5,
   "id": "44cf2f3e",
   "metadata": {},
   "outputs": [
    {
     "name": "stdout",
     "output_type": "stream",
     "text": [
      "Train size: 684 | Test size: 180\n",
      "Train emotions:\n",
      " emotion\n",
      "angry      152\n",
      "fearful    152\n",
      "happy      152\n",
      "sad        152\n",
      "neutral     76\n",
      "Name: count, dtype: int64\n",
      "Test emotions:\n",
      " emotion\n",
      "angry      40\n",
      "fearful    40\n",
      "happy      40\n",
      "sad        40\n",
      "neutral    20\n",
      "Name: count, dtype: int64\n"
     ]
    }
   ],
   "source": [
    "\n",
    "train_df, test_df = make_splits(df, test_size=TEST_SIZE, random_state=RANDOM_STATE, use_group_split=USE_GROUP_SPLIT)\n",
    "print(\"Train size:\", len(train_df), \"| Test size:\", len(test_df))\n",
    "print(\"Train emotions:\\n\", train_df['emotion'].value_counts())\n",
    "print(\"Test emotions:\\n\", test_df['emotion'].value_counts())\n"
   ]
  },
  {
   "cell_type": "markdown",
   "id": "a022cd94",
   "metadata": {},
   "source": [
    "## Fit PCA on TRAIN only"
   ]
  },
  {
   "cell_type": "code",
   "execution_count": 6,
   "id": "7a606a85",
   "metadata": {},
   "outputs": [
    {
     "name": "stdout",
     "output_type": "stream",
     "text": [
      "Chosen components: 6\n",
      "EVR (first 10): [0.3698 0.1524 0.0983 0.089  0.0721 0.0534 0.0332 0.0312 0.0263 0.022 ]\n",
      "CumEVR (first 10): [0.3698 0.5223 0.6206 0.7095 0.7816 0.8351 0.8683 0.8995 0.9258 0.9478]\n",
      "Saved PCA model → /Users/nishchalpokhrel/Documents/project/thesis_code/data/processed/pca_model.pkl\n",
      "Saved variance info → /Users/nishchalpokhrel/Documents/project/thesis_code/data/processed/pca_explained_variance.csv\n",
      "Will save splits as:\n",
      "   /Users/nishchalpokhrel/Documents/project/thesis_code/data/processed/pca6_train.csv\n",
      "   /Users/nishchalpokhrel/Documents/project/thesis_code/data/processed/pca6_test.csv\n"
     ]
    }
   ],
   "source": [
    "\n",
    "X_train = train_df[FEAT_COLS].values\n",
    "pca_model, pca_info = fit_pca_on_train(\n",
    "    X_train, n_components=N_COMPONENTS, variance_target=VARIANCE_TARGET, random_state=RANDOM_STATE\n",
    ")\n",
    "print(\"Chosen components:\", pca_info['chosen_k'])\n",
    "print(\"EVR (first 10):\", np.round(pca_info['evr'][:10], 4))\n",
    "print(\"CumEVR (first 10):\", np.round(pca_info['cum_evr'][:10], 4))\n",
    "\n",
    "# Save PCA artifacts\n",
    "joblib.dump(pca_model, PCA_MODEL_PATH)\n",
    "pd.DataFrame({\n",
    "    \"component\": np.arange(1, len(pca_info['evr'])+1),\n",
    "    \"explained_variance_ratio\": pca_info['evr'],\n",
    "    \"cumulative_explained_variance\": pca_info['cum_evr']\n",
    "}).to_csv(PCA_INFO_CSV, index=False)\n",
    "print(\"Saved PCA model →\", PCA_MODEL_PATH.resolve())\n",
    "print(\"Saved variance info →\", PCA_INFO_CSV.resolve())\n",
    "\n",
    "# Name outputs dynamically based on the number of PCs actually kept\n",
    "K = pca_model.n_components_\n",
    "PCA_TRAIN_CSV = PROCESSED_DIR / f\"pca{K}_train.csv\"\n",
    "PCA_TEST_CSV  = PROCESSED_DIR / f\"pca{K}_test.csv\"\n",
    "print(\"Will save splits as:\")\n",
    "print(\"  \", PCA_TRAIN_CSV.resolve())\n",
    "print(\"  \", PCA_TEST_CSV.resolve())\n",
    "\n"
   ]
  },
  {
   "cell_type": "markdown",
   "id": "b1e30ec7",
   "metadata": {},
   "source": [
    "## Transform train/test and save"
   ]
  },
  {
   "cell_type": "code",
   "execution_count": 7,
   "id": "90fba1a3",
   "metadata": {},
   "outputs": [
    {
     "name": "stdout",
     "output_type": "stream",
     "text": [
      "Saved: /Users/nishchalpokhrel/Documents/project/thesis_code/data/processed/pca6_train.csv\n",
      "Saved: /Users/nishchalpokhrel/Documents/project/thesis_code/data/processed/pca6_test.csv\n"
     ]
    },
    {
     "data": {
      "text/plain": [
       "(                                                path emotion     actor  \\\n",
       " 0  /Users/nishchalpokhrel/Documents/project/thesi...   angry  Actor_02   \n",
       " 1  /Users/nishchalpokhrel/Documents/project/thesi...   angry  Actor_02   \n",
       " 2  /Users/nishchalpokhrel/Documents/project/thesi...   angry  Actor_02   \n",
       " \n",
       "         PC1       PC2       PC3       PC4       PC5       PC6  \n",
       " 0  0.421347  0.243389 -1.194296  0.611393 -0.320048  0.064521  \n",
       " 1  0.747378  0.373317 -1.120472  0.990099 -0.409738 -0.413360  \n",
       " 2  1.006623 -0.347377 -0.796462  0.930092 -0.497158 -0.185426  ,\n",
       "                                                 path emotion     actor  \\\n",
       " 0  /Users/nishchalpokhrel/Documents/project/thesi...   angry  Actor_01   \n",
       " 1  /Users/nishchalpokhrel/Documents/project/thesi...   angry  Actor_01   \n",
       " 2  /Users/nishchalpokhrel/Documents/project/thesi...   angry  Actor_01   \n",
       " \n",
       "         PC1       PC2       PC3       PC4       PC5       PC6  \n",
       " 0 -2.126623  1.225995 -0.757403  0.472466  1.512426 -0.334877  \n",
       " 1 -1.048786 -0.512749  0.521978  1.005944  0.971919 -0.080916  \n",
       " 2 -2.072512 -0.063135  0.623424  0.182904  0.868806  0.117976  )"
      ]
     },
     "execution_count": 7,
     "metadata": {},
     "output_type": "execute_result"
    }
   ],
   "source": [
    "\n",
    "pc_cols = [f\"PC{i+1}\" for i in range(pca_model.n_components_)]\n",
    "\n",
    "X_train_pca = pca_model.transform(train_df[FEAT_COLS].values)\n",
    "train_out = train_df[['path','emotion','actor']].copy() if 'path' in train_df.columns else train_df[['emotion','actor']].copy()\n",
    "for i, c in enumerate(pc_cols): train_out[c] = X_train_pca[:, i]\n",
    "train_out.to_csv(PCA_TRAIN_CSV, index=False)\n",
    "\n",
    "X_test_pca = pca_model.transform(test_df[FEAT_COLS].values)\n",
    "test_out = test_df[['path','emotion','actor']].copy() if 'path' in test_df.columns else test_df[['emotion','actor']].copy()\n",
    "for i, c in enumerate(pc_cols): test_out[c] = X_test_pca[:, i]\n",
    "test_out.to_csv(PCA_TEST_CSV, index=False)\n",
    "\n",
    "print(\"Saved:\", PCA_TRAIN_CSV.resolve())\n",
    "print(\"Saved:\", PCA_TEST_CSV.resolve())\n",
    "\n",
    "train_out.head(3), test_out.head(3)\n"
   ]
  },
  {
   "cell_type": "markdown",
   "id": "2b72132f",
   "metadata": {},
   "source": [
    "## (Optional) Explained variance plots"
   ]
  },
  {
   "cell_type": "code",
   "execution_count": 8,
   "id": "69f92af3",
   "metadata": {},
   "outputs": [
    {
     "data": {
      "image/png": "[encoded data removed]",
      "text/plain": [
       "<Figure size 640x480 with 1 Axes>"
      ]
     },
     "metadata": {},
     "output_type": "display_data"
    },
    {
     "data": {
      "image/png": "[encoded data removed]",
      "text/plain": [
       "<Figure size 640x480 with 1 Axes>"
      ]
     },
     "metadata": {},
     "output_type": "display_data"
    }
   ],
   "source": [
    "\n",
    "evr, cum = pca_info['evr'], pca_info['cum_evr']\n",
    "\n",
    "plt.figure()\n",
    "plt.plot(np.arange(1, len(evr)+1), evr, marker='o')\n",
    "plt.xlabel(\"Component\"); plt.ylabel(\"Explained Variance Ratio\")\n",
    "plt.title(\"Scree Plot\"); plt.show()\n",
    "\n",
    "plt.figure()\n",
    "plt.plot(np.arange(1, len(cum)+1), cum, marker='o')\n",
    "plt.xlabel(\"Component\"); plt.ylabel(\"Cumulative Explained Variance\")\n",
    "plt.title(\"Cumulative EVR\"); plt.show()\n"
   ]
  }
 ],
 "metadata": {
  "kernelspec": {
   "display_name": ".venv.thesis",
   "language": "python",
   "name": "python3"
  },
  "language_info": {
   "codemirror_mode": {
    "name": "ipython",
    "version": 3
   },
   "file_extension": ".py",
   "mimetype": "text/x-python",
   "name": "python",
   "nbconvert_exporter": "python",
   "pygments_lexer": "ipython3",
   "version": "3.12.7"
  }
 },
 "nbformat": 4,
 "nbformat_minor": 5
}
