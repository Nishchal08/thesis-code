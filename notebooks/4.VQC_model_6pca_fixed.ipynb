{
 "cells": [
  {
   "cell_type": "markdown",
   "id": "3b272807",
   "metadata": {},
   "source": [
    "# Step 5d — 3‑Qubit VQC with **6 PCA features** (data re‑upload) + SPSA (Fixed)"
   ]
  },
  {
   "cell_type": "markdown",
   "id": "40ab7bc4",
   "metadata": {},
   "source": [
    "This notebook fixes the readout mismatch and feeds **6 PCs** into **3 qubits** via data re‑uploading.\n",
    "\n",
    "- Encoder: PCs 1–3 → RY(q0..q2), PCs 4–6 → RZ(q0..q2)\n",
    "- Ansatz: RY/RZ locals, ring CRY/CRZ, IsingXX, Toffoli ring, extra RY\n",
    "- Readout: vector ⟨Z⟩ (len=3) → linear head W∈ℝ³, b∈ℝ → sigmoid\n",
    "- Optimizer: SPSA (pure‑Python), class‑weighted BCE\n",
    "- Strategy: one‑vs‑rest (5 binary heads)\n",
    "\n",
    "Inputs: `../data/processed/pca6_train.csv`, `../data/processed/pca6_test.csv`"
   ]
  },
  {
   "cell_type": "markdown",
   "id": "e536ff0f",
   "metadata": {},
   "source": [
    "## Config"
   ]
  },
  {
   "cell_type": "code",
   "execution_count": 1,
   "id": "48acd04d",
   "metadata": {},
   "outputs": [
    {
     "name": "stdout",
     "output_type": "stream",
     "text": [
      "TRAIN_CSV: /Users/nishchalpokhrel/Documents/project/thesis_code/data/processed/pca6_train.csv\n",
      "TEST_CSV : /Users/nishchalpokhrel/Documents/project/thesis_code/data/processed/pca6_test.csv\n"
     ]
    }
   ],
   "source": [
    "\n",
    "from pathlib import Path\n",
    "import math\n",
    "\n",
    "BASE_DATA = Path(\"../data\")\n",
    "PROCESSED_DIR = BASE_DATA / \"processed\"\n",
    "\n",
    "TRAIN_CSV = PROCESSED_DIR / \"pca6_train.csv\"\n",
    "TEST_CSV  = PROCESSED_DIR / \"pca6_test.csv\"\n",
    "\n",
    "PC_COLS = [\"PC1\",\"PC2\",\"PC3\",\"PC4\",\"PC5\",\"PC6\"]\n",
    "N_QUBITS = 3\n",
    "ALL_CLASSES = [\"angry\", \"fearful\", \"happy\", \"neutral\", \"sad\"]\n",
    "\n",
    "LAYERS = 2\n",
    "MAX_ITERS = 200\n",
    "BATCH_SIZE = None\n",
    "SEED = 7\n",
    "\n",
    "SPSA_STEPSIZE = 0.10\n",
    "SPSA_PERTURB  = 0.08\n",
    "RESAMPLINGS   = 3\n",
    "LOG_EVERY     = 10\n",
    "\n",
    "ANGLE_CLIP = math.pi\n",
    "\n",
    "OUT_DIR = PROCESSED_DIR / \"vqc3_6pca_models_spsa\"\n",
    "OUT_DIR.mkdir(parents=True, exist_ok=True)\n",
    "\n",
    "print(\"TRAIN_CSV:\", TRAIN_CSV.resolve())\n",
    "print(\"TEST_CSV :\", TEST_CSV.resolve())\n"
   ]
  },
  {
   "cell_type": "markdown",
   "id": "edf9ff97",
   "metadata": {},
   "source": [
    "## Verify inputs exist"
   ]
  },
  {
   "cell_type": "code",
   "execution_count": 2,
   "id": "34f31dbe",
   "metadata": {},
   "outputs": [
    {
     "name": "stdout",
     "output_type": "stream",
     "text": [
      "PCA(6) files found ✓\n"
     ]
    }
   ],
   "source": [
    "\n",
    "missing = []\n",
    "if not TRAIN_CSV.exists(): missing.append(str(TRAIN_CSV))\n",
    "if not TEST_CSV.exists():  missing.append(str(TEST_CSV))\n",
    "if missing:\n",
    "    raise SystemExit(\"Missing required file(s):\\n  - \" + \"\\n  - \".join(missing))\n",
    "else:\n",
    "    print(\"PCA(6) files found ✓\")\n"
   ]
  },
  {
   "cell_type": "markdown",
   "id": "b4def492",
   "metadata": {},
   "source": [
    "## Imports & utils"
   ]
  },
  {
   "cell_type": "code",
   "execution_count": 3,
   "id": "58222701",
   "metadata": {},
   "outputs": [],
   "source": [
    "\n",
    "import json, random\n",
    "import numpy as onp\n",
    "import numpy as np\n",
    "import pandas as pd\n",
    "import pennylane as qml\n",
    "from pennylane import numpy as pnp\n",
    "from sklearn.metrics import accuracy_score, roc_auc_score, classification_report, confusion_matrix\n",
    "import matplotlib.pyplot as plt\n",
    "\n",
    "pnp.random.seed(SEED); onp.random.seed(SEED); random.seed(SEED)\n",
    "\n",
    "def load_data(train_csv, test_csv, pc_cols, valid_classes):\n",
    "    tr = pd.read_csv(train_csv)\n",
    "    te = pd.read_csv(test_csv)\n",
    "    tr = tr[tr[\"emotion\"].isin(valid_classes)].reset_index(drop=True)\n",
    "    te = te[te[\"emotion\"].isin(valid_classes)].reset_index(drop=True)\n",
    "    for col in pc_cols + [\"emotion\"]:\n",
    "        assert col in tr.columns and col in te.columns, f\"Missing column: {col}\"\n",
    "    return tr, te\n",
    "\n",
    "def build_angle_scaler(train_df, pc_cols, clip=np.pi):\n",
    "    scales = {}\n",
    "    for k in pc_cols:\n",
    "        m = float(train_df[k].abs().max())\n",
    "        scales[k] = {\"denom\": max(1e-8, 1.1*m), \"clip\": clip}\n",
    "    return scales\n",
    "\n",
    "def apply_angle_scaler(df, pc_cols, scales):\n",
    "    X = df[pc_cols].to_numpy(onp.float32)\n",
    "    for j, key in enumerate(pc_cols):\n",
    "        d = scales[key][\"denom\"]; c = scales[key][\"clip\"]\n",
    "        X[:, j] = np.clip((X[:, j] / d) * c, -c, c)\n",
    "    return X\n",
    "\n",
    "def one_vs_rest_labels(df, positive_class):\n",
    "    return (df[\"emotion\"].values == positive_class).astype(onp.float64)\n"
   ]
  },
  {
   "cell_type": "markdown",
   "id": "8748216d",
   "metadata": {},
   "source": [
    "## Device & robust QNode (vector readout)"
   ]
  },
  {
   "cell_type": "code",
   "execution_count": 4,
   "id": "cfd7e91e",
   "metadata": {},
   "outputs": [],
   "source": [
    "\n",
    "def make_qnode(dev):\n",
    "    @qml.qnode(dev, diff_method=\"parameter-shift\")\n",
    "    def vqc_qnode(feats, theta):\n",
    "        encode_angles_reupload(feats)\n",
    "        ansatz(theta)\n",
    "        return [qml.expval(qml.PauliZ(i)) for i in range(N_QUBITS)]\n",
    "    return vqc_qnode\n",
    "\n",
    "try:\n",
    "    dev = qml.device(\"lightning.qubit\", wires=N_QUBITS, shots=None)\n",
    "except Exception:\n",
    "    dev = None\n"
   ]
  },
  {
   "cell_type": "markdown",
   "id": "4752e8ff",
   "metadata": {},
   "source": [
    "## Encoder (6 PCs via data re‑upload) + Ansatz"
   ]
  },
  {
   "cell_type": "code",
   "execution_count": 5,
   "id": "8ad7599d",
   "metadata": {},
   "outputs": [],
   "source": [
    "\n",
    "def encode_angles_reupload(feats):\n",
    "    qml.RY(feats[0], wires=0); qml.RY(feats[1], wires=1); qml.RY(feats[2], wires=2)\n",
    "    qml.RZ(feats[3], wires=0); qml.RZ(feats[4], wires=1); qml.RZ(feats[5], wires=2)\n",
    "\n",
    "def ansatz(theta):\n",
    "    L = theta[\"single\"].shape[0]\n",
    "    for l in range(L):\n",
    "        for q in range(N_QUBITS):\n",
    "            qml.RY(theta[\"single\"][l, q, 0], wires=q)\n",
    "            qml.RZ(theta[\"single\"][l, q, 1], wires=q)\n",
    "        for q in range(N_QUBITS):\n",
    "            qn = (q + 1) % N_QUBITS\n",
    "            qml.CRY(theta[\"ent\"][l, q, 0], wires=[q, qn])\n",
    "            qml.CRZ(theta[\"ent\"][l, q, 1], wires=[q, qn])\n",
    "        for q in range(N_QUBITS):\n",
    "            qn = (q + 1) % N_QUBITS\n",
    "            qml.IsingXX(theta[\"ising\"][l, q], wires=[q, qn])\n",
    "        if N_QUBITS >= 3:\n",
    "            for q in range(N_QUBITS):\n",
    "                q1, q2, tgt = q, (q+1) % N_QUBITS, (q+2) % N_QUBITS\n",
    "                qml.Toffoli(wires=[q1, q2, tgt])\n",
    "        for q in range(N_QUBITS):\n",
    "            qml.RY(theta[\"mix\"][l, q, 0], wires=q)\n"
   ]
  },
  {
   "cell_type": "code",
   "execution_count": 6,
   "id": "e62c9055",
   "metadata": {},
   "outputs": [
    {
     "name": "stdout",
     "output_type": "stream",
     "text": [
      "Using lightning.qubit ✅\n"
     ]
    }
   ],
   "source": [
    "\n",
    "import numpy as np\n",
    "\n",
    "if dev is None:\n",
    "    try:\n",
    "        dev = qml.device(\"lightning.qubit\", wires=N_QUBITS, shots=None)\n",
    "    except Exception:\n",
    "        pass\n",
    "\n",
    "if dev is not None:\n",
    "    try:\n",
    "        vqc_qnode = make_qnode(dev)\n",
    "        _ = vqc_qnode(\n",
    "            np.zeros(6),\n",
    "            {\n",
    "                \"single\": np.zeros((LAYERS, N_QUBITS, 2)),\n",
    "                \"ent\":    np.zeros((LAYERS, N_QUBITS, 2)),\n",
    "                \"ising\":  np.zeros((LAYERS, N_QUBITS)),\n",
    "                \"mix\":    np.zeros((LAYERS, N_QUBITS, 1)),\n",
    "            },\n",
    "        )\n",
    "        print(\"Using lightning.qubit ✅\")\n",
    "    except Exception as e:\n",
    "        print(\"Lightning failed — fallback:\", repr(e))\n",
    "        dev = qml.device(\"default.qubit\", wires=N_QUBITS, shots=None)\n",
    "        vqc_qnode = make_qnode(dev)\n",
    "        print(\"Using default.qubit ✅\")\n",
    "else:\n",
    "    dev = qml.device(\"default.qubit\", wires=N_QUBITS, shots=None)\n",
    "    vqc_qnode = make_qnode(dev)\n",
    "    print(\"Using default.qubit ✅\")\n"
   ]
  },
  {
   "cell_type": "markdown",
   "id": "f0a36096",
   "metadata": {},
   "source": [
    "## Params, vector readout, prediction & loss"
   ]
  },
  {
   "cell_type": "code",
   "execution_count": 7,
   "id": "e5f7fa1d",
   "metadata": {},
   "outputs": [],
   "source": [
    "\n",
    "SINGLE_SZ = LAYERS * N_QUBITS * 2\n",
    "ENT_SZ    = LAYERS * N_QUBITS * 2\n",
    "ISING_SZ  = LAYERS * N_QUBITS * 1\n",
    "MIX_SZ    = LAYERS * N_QUBITS * 1\n",
    "THETA_SIZE = SINGLE_SZ + ENT_SZ + ISING_SZ + MIX_SZ\n",
    "\n",
    "READOUT_SIZE = N_QUBITS + 1\n",
    "\n",
    "def unpack_params(params):\n",
    "    idx = 0\n",
    "    single = params[idx: idx+SINGLE_SZ]; idx += SINGLE_SZ\n",
    "    ent    = params[idx: idx+ENT_SZ];    idx += ENT_SZ\n",
    "    ising  = params[idx: idx+ISING_SZ];  idx += ISING_SZ\n",
    "    mix    = params[idx: idx+MIX_SZ];    idx += MIX_SZ\n",
    "\n",
    "    single = single.reshape(LAYERS, N_QUBITS, 2)\n",
    "    ent    = ent.reshape(LAYERS, N_QUBITS, 2)\n",
    "    ising  = ising.reshape(LAYERS, N_QUBITS)\n",
    "    mix    = mix.reshape(LAYERS, N_QUBITS, 1)\n",
    "\n",
    "    W = params[idx: idx+N_QUBITS]; idx += N_QUBITS\n",
    "    b = params[idx]\n",
    "\n",
    "    theta = {\"single\": single, \"ent\": ent, \"ising\": ising, \"mix\": mix}\n",
    "    return theta, W, b\n",
    "\n",
    "def init_params(scale=0.1):\n",
    "    single0 = pnp.random.uniform(-scale, scale, size=(LAYERS, N_QUBITS, 2))\n",
    "    ent0    = pnp.random.uniform(-scale, scale, size=(LAYERS, N_QUBITS, 2))\n",
    "    ising0  = pnp.random.uniform(-scale, scale, size=(LAYERS, N_QUBITS))\n",
    "    mix0    = pnp.random.uniform(-scale, scale, size=(LAYERS, N_QUBITS, 1))\n",
    "    W0      = pnp.zeros(N_QUBITS)\n",
    "    b0      = pnp.array(0.0)\n",
    "    flat = pnp.concatenate([single0.ravel(), ent0.ravel(), ising0.ravel(), mix0.ravel(), W0, pnp.array([b0])])\n",
    "    return flat\n",
    "\n",
    "def sigmoid(x): return 1/(1+pnp.exp(-x))\n",
    "\n",
    "def predict_probs(params, X):\n",
    "    theta, W, b = unpack_params(params)\n",
    "    outs = []\n",
    "    for i in range(X.shape[0]):\n",
    "        evs = pnp.array(vqc_qnode(X[i], theta))\n",
    "        outs.append(sigmoid(pnp.dot(W, evs) + b))\n",
    "    return pnp.array(outs, dtype=pnp.float64)\n",
    "\n",
    "def bce_loss(params, X, y):\n",
    "    p = predict_probs(params, X); eps=1e-9\n",
    "    return -pnp.mean(y*pnp.log(p+eps) + (1-y)*pnp.log(1-p+eps))\n",
    "\n",
    "def bce_loss_weighted(params, X, y, pos_weight=1.0):\n",
    "    p = predict_probs(params, X); eps=1e-9\n",
    "    return -pnp.mean(pos_weight*y*pnp.log(p+eps) + 1.0*(1-y)*pnp.log(1-p+eps))\n"
   ]
  },
  {
   "cell_type": "markdown",
   "id": "33bf2413",
   "metadata": {},
   "source": [
    "## SPSA (pure‑Python)"
   ]
  },
  {
   "cell_type": "code",
   "execution_count": 8,
   "id": "2d4a98d3",
   "metadata": {},
   "outputs": [],
   "source": [
    "\n",
    "def _spsa_schedule(k, a0=0.1, c0=0.1, A=None, alpha=0.602, gamma=0.101, max_iters=150):\n",
    "    if A is None: A = 0.1 * max_iters\n",
    "    ak = a0 / ((k + A) ** alpha)\n",
    "    ck = c0 / (k ** gamma)\n",
    "    return ak, ck\n",
    "\n",
    "def train_binary_spsa(\n",
    "    X, y,\n",
    "    max_iters=150, batch_size=None,\n",
    "    stepsize=0.1, perturb=0.1,\n",
    "    log_every=10, resamplings=1, seed=7,\n",
    "    loss_fn=None\n",
    "):\n",
    "    rng = np.random.default_rng(seed)\n",
    "    n_params = THETA_SIZE + READOUT_SIZE\n",
    "    params = rng.uniform(-0.1, 0.1, size=n_params).astype(np.float64)\n",
    "    best_loss = float(\"inf\"); best_params = params.copy(); losses = []\n",
    "\n",
    "    def get_batch():\n",
    "        if batch_size is None or batch_size >= len(X): return X, y\n",
    "        idx = rng.permutation(len(X))[:batch_size]\n",
    "        return X[idx], y[idx]\n",
    "\n",
    "    if loss_fn is None: loss_fn = bce_loss\n",
    "\n",
    "    for it in range(1, max_iters+1):\n",
    "        Xb, yb = get_batch()\n",
    "        a_k, c_k = _spsa_schedule(it, a0=stepsize, c0=perturb, max_iters=max_iters)\n",
    "        ghat = np.zeros_like(params)\n",
    "        for _ in range(resamplings):\n",
    "            delta = rng.choice([-1.0, 1.0], size=n_params).astype(np.float64)\n",
    "            Lp = float(loss_fn(params + c_k*delta, Xb, yb))\n",
    "            Lm = float(loss_fn(params - c_k*delta, Xb, yb))\n",
    "            ghat += ((Lp - Lm)/(2.0*c_k)) * delta\n",
    "        ghat /= float(resamplings)\n",
    "        params = params - a_k * ghat\n",
    "        curr = float(loss_fn(params, Xb, yb)); losses.append(curr)\n",
    "        if curr < best_loss - 1e-9: best_loss, best_params = curr, params.copy()\n",
    "        if it % log_every == 0:\n",
    "            print(f\"iter {it:04d} | loss {curr:.4f} | best {best_loss:.4f} | a_k={a_k:.4g} c_k={c_k:.4g}\")\n",
    "    return best_params, np.array(losses, dtype=np.float64)\n"
   ]
  },
  {
   "cell_type": "markdown",
   "id": "d9b8e50c",
   "metadata": {},
   "source": [
    "## Train one‑vs‑rest VQCs"
   ]
  },
  {
   "cell_type": "code",
   "execution_count": 9,
   "id": "f803e84b",
   "metadata": {},
   "outputs": [
    {
     "name": "stdout",
     "output_type": "stream",
     "text": [
      "\n",
      "=== OVR: angry ===\n",
      "iter 0010 | loss 1.0829 | best 1.0829 | a_k=0.01291 c_k=0.0634\n",
      "iter 0020 | loss 1.0820 | best 1.0820 | a_k=0.01085 c_k=0.05911\n",
      "iter 0030 | loss 1.0813 | best 1.0813 | a_k=0.009489 c_k=0.05674\n",
      "iter 0040 | loss 1.0807 | best 1.0807 | a_k=0.008503 c_k=0.05512\n",
      "iter 0050 | loss 1.0803 | best 1.0803 | a_k=0.007749 c_k=0.05389\n",
      "iter 0060 | loss 1.0797 | best 1.0797 | a_k=0.007151 c_k=0.0529\n",
      "iter 0070 | loss 1.0794 | best 1.0794 | a_k=0.006661 c_k=0.05209\n",
      "iter 0080 | loss 1.0792 | best 1.0792 | a_k=0.006252 c_k=0.05139\n",
      "iter 0090 | loss 1.0789 | best 1.0789 | a_k=0.005903 c_k=0.05078\n",
      "iter 0100 | loss 1.0787 | best 1.0787 | a_k=0.005602 c_k=0.05024\n",
      "iter 0110 | loss 1.0785 | best 1.0785 | a_k=0.005338 c_k=0.04976\n",
      "iter 0120 | loss 1.0784 | best 1.0784 | a_k=0.005105 c_k=0.04933\n",
      "iter 0130 | loss 1.0782 | best 1.0782 | a_k=0.004898 c_k=0.04893\n",
      "iter 0140 | loss 1.0781 | best 1.0781 | a_k=0.004711 c_k=0.04857\n",
      "iter 0150 | loss 1.0779 | best 1.0779 | a_k=0.004542 c_k=0.04823\n",
      "iter 0160 | loss 1.0778 | best 1.0778 | a_k=0.004389 c_k=0.04792\n",
      "iter 0170 | loss 1.0777 | best 1.0777 | a_k=0.004248 c_k=0.04762\n",
      "iter 0180 | loss 1.0775 | best 1.0775 | a_k=0.004119 c_k=0.04735\n",
      "iter 0190 | loss 1.0774 | best 1.0774 | a_k=0.004 c_k=0.04709\n",
      "iter 0200 | loss 1.0773 | best 1.0773 | a_k=0.003889 c_k=0.04685\n",
      "[angry] train acc=0.548 auc=0.537 | test acc=0.717 auc=0.692\n",
      "\n",
      "=== OVR: fearful ===\n",
      "iter 0010 | loss 1.0759 | best 1.0759 | a_k=0.01291 c_k=0.0634\n"
     ]
    },
    {
     "ename": "KeyboardInterrupt",
     "evalue": "",
     "output_type": "error",
     "traceback": [
      "\u001b[31m---------------------------------------------------------------------------\u001b[39m",
      "\u001b[31mKeyboardInterrupt\u001b[39m                         Traceback (most recent call last)",
      "\u001b[36mCell\u001b[39m\u001b[36m \u001b[39m\u001b[32mIn[9]\u001b[39m\u001b[32m, line 17\u001b[39m\n\u001b[32m     14\u001b[39m pos_weight = \u001b[38;5;28mfloat\u001b[39m(neg / \u001b[38;5;28mmax\u001b[39m(\u001b[32m1.0\u001b[39m, pos))\n\u001b[32m     15\u001b[39m loss_fn = \u001b[38;5;28;01mlambda\u001b[39;00m p,X,y: bce_loss_weighted(p, X, y, pos_weight=pos_weight)\n\u001b[32m---> \u001b[39m\u001b[32m17\u001b[39m params, losses = \u001b[43mtrain_binary_spsa\u001b[49m\u001b[43m(\u001b[49m\n\u001b[32m     18\u001b[39m \u001b[43m    \u001b[49m\u001b[43mX_train\u001b[49m\u001b[43m,\u001b[49m\u001b[43m \u001b[49m\u001b[43my_train\u001b[49m\u001b[43m,\u001b[49m\n\u001b[32m     19\u001b[39m \u001b[43m    \u001b[49m\u001b[43mmax_iters\u001b[49m\u001b[43m=\u001b[49m\u001b[43mMAX_ITERS\u001b[49m\u001b[43m,\u001b[49m\u001b[43m \u001b[49m\u001b[43mbatch_size\u001b[49m\u001b[43m=\u001b[49m\u001b[43mBATCH_SIZE\u001b[49m\u001b[43m,\u001b[49m\n\u001b[32m     20\u001b[39m \u001b[43m    \u001b[49m\u001b[43mstepsize\u001b[49m\u001b[43m=\u001b[49m\u001b[43mSPSA_STEPSIZE\u001b[49m\u001b[43m,\u001b[49m\u001b[43m \u001b[49m\u001b[43mperturb\u001b[49m\u001b[43m=\u001b[49m\u001b[43mSPSA_PERTURB\u001b[49m\u001b[43m,\u001b[49m\n\u001b[32m     21\u001b[39m \u001b[43m    \u001b[49m\u001b[43mlog_every\u001b[49m\u001b[43m=\u001b[49m\u001b[43mLOG_EVERY\u001b[49m\u001b[43m,\u001b[49m\u001b[43m \u001b[49m\u001b[43mresamplings\u001b[49m\u001b[43m=\u001b[49m\u001b[43mRESAMPLINGS\u001b[49m\u001b[43m,\u001b[49m\u001b[43m \u001b[49m\u001b[43mseed\u001b[49m\u001b[43m=\u001b[49m\u001b[43mSEED\u001b[49m\u001b[43m,\u001b[49m\n\u001b[32m     22\u001b[39m \u001b[43m    \u001b[49m\u001b[43mloss_fn\u001b[49m\u001b[43m=\u001b[49m\u001b[43mloss_fn\u001b[49m\n\u001b[32m     23\u001b[39m \u001b[43m\u001b[49m\u001b[43m)\u001b[49m\n\u001b[32m     25\u001b[39m \u001b[38;5;28;01mdef\u001b[39;00m\u001b[38;5;250m \u001b[39m\u001b[34mprobs\u001b[39m(p, X): \u001b[38;5;28;01mreturn\u001b[39;00m np.asarray(predict_probs(p, X), dtype=np.float64)\n\u001b[32m     26\u001b[39m p_tr = probs(params, X_train); p_te = probs(params, X_test)\n",
      "\u001b[36mCell\u001b[39m\u001b[36m \u001b[39m\u001b[32mIn[8]\u001b[39m\u001b[32m, line 32\u001b[39m, in \u001b[36mtrain_binary_spsa\u001b[39m\u001b[34m(X, y, max_iters, batch_size, stepsize, perturb, log_every, resamplings, seed, loss_fn)\u001b[39m\n\u001b[32m     30\u001b[39m \u001b[38;5;28;01mfor\u001b[39;00m _ \u001b[38;5;129;01min\u001b[39;00m \u001b[38;5;28mrange\u001b[39m(resamplings):\n\u001b[32m     31\u001b[39m     delta = rng.choice([-\u001b[32m1.0\u001b[39m, \u001b[32m1.0\u001b[39m], size=n_params).astype(np.float64)\n\u001b[32m---> \u001b[39m\u001b[32m32\u001b[39m     Lp = \u001b[38;5;28mfloat\u001b[39m(\u001b[43mloss_fn\u001b[49m\u001b[43m(\u001b[49m\u001b[43mparams\u001b[49m\u001b[43m \u001b[49m\u001b[43m+\u001b[49m\u001b[43m \u001b[49m\u001b[43mc_k\u001b[49m\u001b[43m*\u001b[49m\u001b[43mdelta\u001b[49m\u001b[43m,\u001b[49m\u001b[43m \u001b[49m\u001b[43mXb\u001b[49m\u001b[43m,\u001b[49m\u001b[43m \u001b[49m\u001b[43myb\u001b[49m\u001b[43m)\u001b[49m)\n\u001b[32m     33\u001b[39m     Lm = \u001b[38;5;28mfloat\u001b[39m(loss_fn(params - c_k*delta, Xb, yb))\n\u001b[32m     34\u001b[39m     ghat += ((Lp - Lm)/(\u001b[32m2.0\u001b[39m*c_k)) * delta\n",
      "\u001b[36mCell\u001b[39m\u001b[36m \u001b[39m\u001b[32mIn[9]\u001b[39m\u001b[32m, line 15\u001b[39m, in \u001b[36m<lambda>\u001b[39m\u001b[34m(p, X, y)\u001b[39m\n\u001b[32m     13\u001b[39m pos = y_train.sum(); neg = \u001b[38;5;28mlen\u001b[39m(y_train) - pos\n\u001b[32m     14\u001b[39m pos_weight = \u001b[38;5;28mfloat\u001b[39m(neg / \u001b[38;5;28mmax\u001b[39m(\u001b[32m1.0\u001b[39m, pos))\n\u001b[32m---> \u001b[39m\u001b[32m15\u001b[39m loss_fn = \u001b[38;5;28;01mlambda\u001b[39;00m p,X,y: \u001b[43mbce_loss_weighted\u001b[49m\u001b[43m(\u001b[49m\u001b[43mp\u001b[49m\u001b[43m,\u001b[49m\u001b[43m \u001b[49m\u001b[43mX\u001b[49m\u001b[43m,\u001b[49m\u001b[43m \u001b[49m\u001b[43my\u001b[49m\u001b[43m,\u001b[49m\u001b[43m \u001b[49m\u001b[43mpos_weight\u001b[49m\u001b[43m=\u001b[49m\u001b[43mpos_weight\u001b[49m\u001b[43m)\u001b[49m\n\u001b[32m     17\u001b[39m params, losses = train_binary_spsa(\n\u001b[32m     18\u001b[39m     X_train, y_train,\n\u001b[32m     19\u001b[39m     max_iters=MAX_ITERS, batch_size=BATCH_SIZE,\n\u001b[32m   (...)\u001b[39m\u001b[32m     22\u001b[39m     loss_fn=loss_fn\n\u001b[32m     23\u001b[39m )\n\u001b[32m     25\u001b[39m \u001b[38;5;28;01mdef\u001b[39;00m\u001b[38;5;250m \u001b[39m\u001b[34mprobs\u001b[39m(p, X): \u001b[38;5;28;01mreturn\u001b[39;00m np.asarray(predict_probs(p, X), dtype=np.float64)\n",
      "\u001b[36mCell\u001b[39m\u001b[36m \u001b[39m\u001b[32mIn[7]\u001b[39m\u001b[32m, line 52\u001b[39m, in \u001b[36mbce_loss_weighted\u001b[39m\u001b[34m(params, X, y, pos_weight)\u001b[39m\n\u001b[32m     51\u001b[39m \u001b[38;5;28;01mdef\u001b[39;00m\u001b[38;5;250m \u001b[39m\u001b[34mbce_loss_weighted\u001b[39m(params, X, y, pos_weight=\u001b[32m1.0\u001b[39m):\n\u001b[32m---> \u001b[39m\u001b[32m52\u001b[39m     p = \u001b[43mpredict_probs\u001b[49m\u001b[43m(\u001b[49m\u001b[43mparams\u001b[49m\u001b[43m,\u001b[49m\u001b[43m \u001b[49m\u001b[43mX\u001b[49m\u001b[43m)\u001b[49m; eps=\u001b[32m1e-9\u001b[39m\n\u001b[32m     53\u001b[39m     \u001b[38;5;28;01mreturn\u001b[39;00m -pnp.mean(pos_weight*y*pnp.log(p+eps) + \u001b[32m1.0\u001b[39m*(\u001b[32m1\u001b[39m-y)*pnp.log(\u001b[32m1\u001b[39m-p+eps))\n",
      "\u001b[36mCell\u001b[39m\u001b[36m \u001b[39m\u001b[32mIn[7]\u001b[39m\u001b[32m, line 43\u001b[39m, in \u001b[36mpredict_probs\u001b[39m\u001b[34m(params, X)\u001b[39m\n\u001b[32m     41\u001b[39m outs = []\n\u001b[32m     42\u001b[39m \u001b[38;5;28;01mfor\u001b[39;00m i \u001b[38;5;129;01min\u001b[39;00m \u001b[38;5;28mrange\u001b[39m(X.shape[\u001b[32m0\u001b[39m]):\n\u001b[32m---> \u001b[39m\u001b[32m43\u001b[39m     evs = pnp.array(\u001b[43mvqc_qnode\u001b[49m\u001b[43m(\u001b[49m\u001b[43mX\u001b[49m\u001b[43m[\u001b[49m\u001b[43mi\u001b[49m\u001b[43m]\u001b[49m\u001b[43m,\u001b[49m\u001b[43m \u001b[49m\u001b[43mtheta\u001b[49m\u001b[43m)\u001b[49m)\n\u001b[32m     44\u001b[39m     outs.append(sigmoid(pnp.dot(W, evs) + b))\n\u001b[32m     45\u001b[39m \u001b[38;5;28;01mreturn\u001b[39;00m pnp.array(outs, dtype=pnp.float64)\n",
      "\u001b[36mFile \u001b[39m\u001b[32m~/Documents/project/thesis_code/.venv.thesis/lib/python3.12/site-packages/pennylane/workflow/qnode.py:1164\u001b[39m, in \u001b[36mQNode.__call__\u001b[39m\u001b[34m(self, *args, **kwargs)\u001b[39m\n\u001b[32m   1162\u001b[39m \u001b[38;5;28;01mif\u001b[39;00m qml.capture.enabled():\n\u001b[32m   1163\u001b[39m     \u001b[38;5;28;01mreturn\u001b[39;00m qml.capture.qnode_call(\u001b[38;5;28mself\u001b[39m, *args, **kwargs)\n\u001b[32m-> \u001b[39m\u001b[32m1164\u001b[39m \u001b[38;5;28;01mreturn\u001b[39;00m \u001b[38;5;28;43mself\u001b[39;49m\u001b[43m.\u001b[49m\u001b[43m_impl_call\u001b[49m\u001b[43m(\u001b[49m\u001b[43m*\u001b[49m\u001b[43margs\u001b[49m\u001b[43m,\u001b[49m\u001b[43m \u001b[49m\u001b[43m*\u001b[49m\u001b[43m*\u001b[49m\u001b[43mkwargs\u001b[49m\u001b[43m)\u001b[49m\n",
      "\u001b[36mFile \u001b[39m\u001b[32m~/Documents/project/thesis_code/.venv.thesis/lib/python3.12/site-packages/pennylane/workflow/qnode.py:1150\u001b[39m, in \u001b[36mQNode._impl_call\u001b[39m\u001b[34m(self, *args, **kwargs)\u001b[39m\n\u001b[32m   1147\u001b[39m \u001b[38;5;28mself\u001b[39m._update_gradient_fn(shots=override_shots, tape=\u001b[38;5;28mself\u001b[39m._tape)\n\u001b[32m   1149\u001b[39m \u001b[38;5;28;01mtry\u001b[39;00m:\n\u001b[32m-> \u001b[39m\u001b[32m1150\u001b[39m     res = \u001b[38;5;28;43mself\u001b[39;49m\u001b[43m.\u001b[49m\u001b[43m_execution_component\u001b[49m\u001b[43m(\u001b[49m\u001b[43margs\u001b[49m\u001b[43m,\u001b[49m\u001b[43m \u001b[49m\u001b[43mkwargs\u001b[49m\u001b[43m,\u001b[49m\u001b[43m \u001b[49m\u001b[43moverride_shots\u001b[49m\u001b[43m=\u001b[49m\u001b[43moverride_shots\u001b[49m\u001b[43m)\u001b[49m\n\u001b[32m   1151\u001b[39m \u001b[38;5;28;01mfinally\u001b[39;00m:\n\u001b[32m   1152\u001b[39m     \u001b[38;5;28;01mif\u001b[39;00m old_interface == \u001b[33m\"\u001b[39m\u001b[33mauto\u001b[39m\u001b[33m\"\u001b[39m:\n",
      "\u001b[36mFile \u001b[39m\u001b[32m~/Documents/project/thesis_code/.venv.thesis/lib/python3.12/site-packages/pennylane/workflow/qnode.py:1103\u001b[39m, in \u001b[36mQNode._execution_component\u001b[39m\u001b[34m(self, args, kwargs, override_shots)\u001b[39m\n\u001b[32m   1100\u001b[39m _prune_dynamic_transform(full_transform_program, inner_transform_program)\n\u001b[32m   1102\u001b[39m \u001b[38;5;66;03m# pylint: disable=unexpected-keyword-arg\u001b[39;00m\n\u001b[32m-> \u001b[39m\u001b[32m1103\u001b[39m res = \u001b[43mqml\u001b[49m\u001b[43m.\u001b[49m\u001b[43mexecute\u001b[49m\u001b[43m(\u001b[49m\n\u001b[32m   1104\u001b[39m \u001b[43m    \u001b[49m\u001b[43m(\u001b[49m\u001b[38;5;28;43mself\u001b[39;49m\u001b[43m.\u001b[49m\u001b[43m_tape\u001b[49m\u001b[43m,\u001b[49m\u001b[43m)\u001b[49m\u001b[43m,\u001b[49m\n\u001b[32m   1105\u001b[39m \u001b[43m    \u001b[49m\u001b[43mdevice\u001b[49m\u001b[43m=\u001b[49m\u001b[38;5;28;43mself\u001b[39;49m\u001b[43m.\u001b[49m\u001b[43mdevice\u001b[49m\u001b[43m,\u001b[49m\n\u001b[32m   1106\u001b[39m \u001b[43m    \u001b[49m\u001b[43mgradient_fn\u001b[49m\u001b[43m=\u001b[49m\u001b[38;5;28;43mself\u001b[39;49m\u001b[43m.\u001b[49m\u001b[43mgradient_fn\u001b[49m\u001b[43m,\u001b[49m\n\u001b[32m   1107\u001b[39m \u001b[43m    \u001b[49m\u001b[43minterface\u001b[49m\u001b[43m=\u001b[49m\u001b[38;5;28;43mself\u001b[39;49m\u001b[43m.\u001b[49m\u001b[43minterface\u001b[49m\u001b[43m,\u001b[49m\n\u001b[32m   1108\u001b[39m \u001b[43m    \u001b[49m\u001b[43mtransform_program\u001b[49m\u001b[43m=\u001b[49m\u001b[43mfull_transform_program\u001b[49m\u001b[43m,\u001b[49m\n\u001b[32m   1109\u001b[39m \u001b[43m    \u001b[49m\u001b[43minner_transform\u001b[49m\u001b[43m=\u001b[49m\u001b[43minner_transform_program\u001b[49m\u001b[43m,\u001b[49m\n\u001b[32m   1110\u001b[39m \u001b[43m    \u001b[49m\u001b[43mconfig\u001b[49m\u001b[43m=\u001b[49m\u001b[43mconfig\u001b[49m\u001b[43m,\u001b[49m\n\u001b[32m   1111\u001b[39m \u001b[43m    \u001b[49m\u001b[43mgradient_kwargs\u001b[49m\u001b[43m=\u001b[49m\u001b[38;5;28;43mself\u001b[39;49m\u001b[43m.\u001b[49m\u001b[43mgradient_kwargs\u001b[49m\u001b[43m,\u001b[49m\n\u001b[32m   1112\u001b[39m \u001b[43m    \u001b[49m\u001b[43moverride_shots\u001b[49m\u001b[43m=\u001b[49m\u001b[43moverride_shots\u001b[49m\u001b[43m,\u001b[49m\n\u001b[32m   1113\u001b[39m \u001b[43m    \u001b[49m\u001b[43m*\u001b[49m\u001b[43m*\u001b[49m\u001b[38;5;28;43mself\u001b[39;49m\u001b[43m.\u001b[49m\u001b[43mexecute_kwargs\u001b[49m\u001b[43m,\u001b[49m\n\u001b[32m   1114\u001b[39m \u001b[43m\u001b[49m\u001b[43m)\u001b[49m\n\u001b[32m   1115\u001b[39m res = res[\u001b[32m0\u001b[39m]\n\u001b[32m   1117\u001b[39m \u001b[38;5;66;03m# convert result to the interface in case the qfunc has no parameters\u001b[39;00m\n",
      "\u001b[36mFile \u001b[39m\u001b[32m~/Documents/project/thesis_code/.venv.thesis/lib/python3.12/site-packages/pennylane/workflow/execution.py:835\u001b[39m, in \u001b[36mexecute\u001b[39m\u001b[34m(tapes, device, gradient_fn, interface, transform_program, inner_transform, config, grad_on_execution, gradient_kwargs, cache, cachesize, max_diff, override_shots, expand_fn, max_expansion, device_batch_transform, device_vjp, mcm_config)\u001b[39m\n\u001b[32m    827\u001b[39m ml_boundary_execute = _get_ml_boundary_execute(\n\u001b[32m    828\u001b[39m     interface,\n\u001b[32m    829\u001b[39m     _grad_on_execution,\n\u001b[32m    830\u001b[39m     config.use_device_jacobian_product,\n\u001b[32m    831\u001b[39m     differentiable=max_diff > \u001b[32m1\u001b[39m,\n\u001b[32m    832\u001b[39m )\n\u001b[32m    834\u001b[39m \u001b[38;5;28;01mif\u001b[39;00m interface \u001b[38;5;129;01min\u001b[39;00m jpc_interfaces:\n\u001b[32m--> \u001b[39m\u001b[32m835\u001b[39m     results = \u001b[43mml_boundary_execute\u001b[49m\u001b[43m(\u001b[49m\u001b[43mtapes\u001b[49m\u001b[43m,\u001b[49m\u001b[43m \u001b[49m\u001b[43mexecute_fn\u001b[49m\u001b[43m,\u001b[49m\u001b[43m \u001b[49m\u001b[43mjpc\u001b[49m\u001b[43m,\u001b[49m\u001b[43m \u001b[49m\u001b[43mdevice\u001b[49m\u001b[43m=\u001b[49m\u001b[43mdevice\u001b[49m\u001b[43m)\u001b[49m\n\u001b[32m    836\u001b[39m \u001b[38;5;28;01melse\u001b[39;00m:\n\u001b[32m    837\u001b[39m     results = ml_boundary_execute(\n\u001b[32m    838\u001b[39m         tapes, device, execute_fn, gradient_fn, gradient_kwargs, _n=\u001b[32m1\u001b[39m, max_diff=max_diff\n\u001b[32m    839\u001b[39m     )\n",
      "\u001b[36mFile \u001b[39m\u001b[32m~/Documents/project/thesis_code/.venv.thesis/lib/python3.12/site-packages/pennylane/workflow/interfaces/autograd.py:147\u001b[39m, in \u001b[36mautograd_execute\u001b[39m\u001b[34m(tapes, execute_fn, jpc, device)\u001b[39m\n\u001b[32m    142\u001b[39m \u001b[38;5;66;03m# pylint misidentifies autograd.builtins as a dict\u001b[39;00m\n\u001b[32m    143\u001b[39m \u001b[38;5;66;03m# pylint: disable=no-member\u001b[39;00m\n\u001b[32m    144\u001b[39m parameters = autograd.builtins.tuple(\n\u001b[32m    145\u001b[39m     [autograd.builtins.list(t.get_parameters()) \u001b[38;5;28;01mfor\u001b[39;00m t \u001b[38;5;129;01min\u001b[39;00m tapes]\n\u001b[32m    146\u001b[39m )\n\u001b[32m--> \u001b[39m\u001b[32m147\u001b[39m \u001b[38;5;28;01mreturn\u001b[39;00m \u001b[43m_execute\u001b[49m\u001b[43m(\u001b[49m\u001b[43mparameters\u001b[49m\u001b[43m,\u001b[49m\u001b[43m \u001b[49m\u001b[38;5;28;43mtuple\u001b[39;49m\u001b[43m(\u001b[49m\u001b[43mtapes\u001b[49m\u001b[43m)\u001b[49m\u001b[43m,\u001b[49m\u001b[43m \u001b[49m\u001b[43mexecute_fn\u001b[49m\u001b[43m,\u001b[49m\u001b[43m \u001b[49m\u001b[43mjpc\u001b[49m\u001b[43m)\u001b[49m\n",
      "\u001b[36mFile \u001b[39m\u001b[32m~/Documents/project/thesis_code/.venv.thesis/lib/python3.12/site-packages/autograd/tracer.py:54\u001b[39m, in \u001b[36mprimitive.<locals>.f_wrapped\u001b[39m\u001b[34m(*args, **kwargs)\u001b[39m\n\u001b[32m     52\u001b[39m     \u001b[38;5;28;01mreturn\u001b[39;00m new_box(ans, trace, node)\n\u001b[32m     53\u001b[39m \u001b[38;5;28;01melse\u001b[39;00m:\n\u001b[32m---> \u001b[39m\u001b[32m54\u001b[39m     \u001b[38;5;28;01mreturn\u001b[39;00m \u001b[43mf_raw\u001b[49m\u001b[43m(\u001b[49m\u001b[43m*\u001b[49m\u001b[43margs\u001b[49m\u001b[43m,\u001b[49m\u001b[43m \u001b[49m\u001b[43m*\u001b[49m\u001b[43m*\u001b[49m\u001b[43mkwargs\u001b[49m\u001b[43m)\u001b[49m\n",
      "\u001b[36mFile \u001b[39m\u001b[32m~/Documents/project/thesis_code/.venv.thesis/lib/python3.12/site-packages/pennylane/workflow/interfaces/autograd.py:168\u001b[39m, in \u001b[36m_execute\u001b[39m\u001b[34m(parameters, tapes, execute_fn, jpc)\u001b[39m\n\u001b[32m    150\u001b[39m \u001b[38;5;129m@autograd\u001b[39m.extend.primitive\n\u001b[32m    151\u001b[39m \u001b[38;5;28;01mdef\u001b[39;00m\u001b[38;5;250m \u001b[39m\u001b[34m_execute\u001b[39m(\n\u001b[32m    152\u001b[39m     parameters,\n\u001b[32m   (...)\u001b[39m\u001b[32m    155\u001b[39m     jpc,\n\u001b[32m    156\u001b[39m ):  \u001b[38;5;66;03m# pylint: disable=unused-argument\u001b[39;00m\n\u001b[32m    157\u001b[39m \u001b[38;5;250m    \u001b[39m\u001b[33;03m\"\"\"Autodifferentiable wrapper around a way of executing tapes.\u001b[39;00m\n\u001b[32m    158\u001b[39m \n\u001b[32m    159\u001b[39m \u001b[33;03m    Args:\u001b[39;00m\n\u001b[32m   (...)\u001b[39m\u001b[32m    166\u001b[39m \n\u001b[32m    167\u001b[39m \u001b[33;03m    \"\"\"\u001b[39;00m\n\u001b[32m--> \u001b[39m\u001b[32m168\u001b[39m     \u001b[38;5;28;01mreturn\u001b[39;00m \u001b[43mexecute_fn\u001b[49m\u001b[43m(\u001b[49m\u001b[43mtapes\u001b[49m\u001b[43m)\u001b[49m\n",
      "\u001b[36mFile \u001b[39m\u001b[32m~/Documents/project/thesis_code/.venv.thesis/lib/python3.12/site-packages/pennylane/workflow/execution.py:316\u001b[39m, in \u001b[36m_make_inner_execute.<locals>.inner_execute\u001b[39m\u001b[34m(tapes, **_)\u001b[39m\n\u001b[32m    313\u001b[39m     transformed_tapes = \u001b[38;5;28mtuple\u001b[39m(expand_fn(t) \u001b[38;5;28;01mfor\u001b[39;00m t \u001b[38;5;129;01min\u001b[39;00m transformed_tapes)\n\u001b[32m    315\u001b[39m \u001b[38;5;28;01mif\u001b[39;00m transformed_tapes:\n\u001b[32m--> \u001b[39m\u001b[32m316\u001b[39m     results = \u001b[43mdevice_execution\u001b[49m\u001b[43m(\u001b[49m\u001b[43mtransformed_tapes\u001b[49m\u001b[43m)\u001b[49m\n\u001b[32m    317\u001b[39m \u001b[38;5;28;01melse\u001b[39;00m:\n\u001b[32m    318\u001b[39m     results = ()\n",
      "\u001b[36mFile \u001b[39m\u001b[32m~/Documents/project/thesis_code/.venv.thesis/lib/python3.12/site-packages/pennylane/devices/modifiers/simulator_tracking.py:30\u001b[39m, in \u001b[36m_track_execute.<locals>.execute\u001b[39m\u001b[34m(self, circuits, execution_config)\u001b[39m\n\u001b[32m     28\u001b[39m \u001b[38;5;129m@wraps\u001b[39m(untracked_execute)\n\u001b[32m     29\u001b[39m \u001b[38;5;28;01mdef\u001b[39;00m\u001b[38;5;250m \u001b[39m\u001b[34mexecute\u001b[39m(\u001b[38;5;28mself\u001b[39m, circuits, execution_config=DefaultExecutionConfig):\n\u001b[32m---> \u001b[39m\u001b[32m30\u001b[39m     results = \u001b[43muntracked_execute\u001b[49m\u001b[43m(\u001b[49m\u001b[38;5;28;43mself\u001b[39;49m\u001b[43m,\u001b[49m\u001b[43m \u001b[49m\u001b[43mcircuits\u001b[49m\u001b[43m,\u001b[49m\u001b[43m \u001b[49m\u001b[43mexecution_config\u001b[49m\u001b[43m)\u001b[49m\n\u001b[32m     31\u001b[39m     \u001b[38;5;28;01mif\u001b[39;00m \u001b[38;5;28misinstance\u001b[39m(circuits, QuantumScript):\n\u001b[32m     32\u001b[39m         batch = (circuits,)\n",
      "\u001b[36mFile \u001b[39m\u001b[32m~/Documents/project/thesis_code/.venv.thesis/lib/python3.12/site-packages/pennylane/devices/modifiers/single_tape_support.py:32\u001b[39m, in \u001b[36m_make_execute.<locals>.execute\u001b[39m\u001b[34m(self, circuits, execution_config)\u001b[39m\n\u001b[32m     30\u001b[39m     is_single_circuit = \u001b[38;5;28;01mTrue\u001b[39;00m\n\u001b[32m     31\u001b[39m     circuits = (circuits,)\n\u001b[32m---> \u001b[39m\u001b[32m32\u001b[39m results = \u001b[43mbatch_execute\u001b[49m\u001b[43m(\u001b[49m\u001b[38;5;28;43mself\u001b[39;49m\u001b[43m,\u001b[49m\u001b[43m \u001b[49m\u001b[43mcircuits\u001b[49m\u001b[43m,\u001b[49m\u001b[43m \u001b[49m\u001b[43mexecution_config\u001b[49m\u001b[43m)\u001b[49m\n\u001b[32m     33\u001b[39m \u001b[38;5;28;01mreturn\u001b[39;00m results[\u001b[32m0\u001b[39m] \u001b[38;5;28;01mif\u001b[39;00m is_single_circuit \u001b[38;5;28;01melse\u001b[39;00m results\n",
      "\u001b[36mFile \u001b[39m\u001b[32m~/Documents/project/thesis_code/.venv.thesis/lib/python3.12/site-packages/pennylane_lightning/lightning_qubit/lightning_qubit.py:635\u001b[39m, in \u001b[36mLightningQubit.execute\u001b[39m\u001b[34m(self, circuits, execution_config)\u001b[39m\n\u001b[32m    632\u001b[39m     \u001b[38;5;28;01mif\u001b[39;00m \u001b[38;5;28mself\u001b[39m._wire_map \u001b[38;5;129;01mis\u001b[39;00m \u001b[38;5;129;01mnot\u001b[39;00m \u001b[38;5;28;01mNone\u001b[39;00m:\n\u001b[32m    633\u001b[39m         [circuit], _ = qml.map_wires(circuit, \u001b[38;5;28mself\u001b[39m._wire_map)\n\u001b[32m    634\u001b[39m     results.append(\n\u001b[32m--> \u001b[39m\u001b[32m635\u001b[39m         \u001b[43msimulate\u001b[49m\u001b[43m(\u001b[49m\n\u001b[32m    636\u001b[39m \u001b[43m            \u001b[49m\u001b[43mcircuit\u001b[49m\u001b[43m,\u001b[49m\n\u001b[32m    637\u001b[39m \u001b[43m            \u001b[49m\u001b[38;5;28;43mself\u001b[39;49m\u001b[43m.\u001b[49m\u001b[43m_statevector\u001b[49m\u001b[43m,\u001b[49m\n\u001b[32m    638\u001b[39m \u001b[43m            \u001b[49m\u001b[43mmcmc\u001b[49m\u001b[43m=\u001b[49m\u001b[43mmcmc\u001b[49m\u001b[43m,\u001b[49m\n\u001b[32m    639\u001b[39m \u001b[43m            \u001b[49m\u001b[43mpostselect_mode\u001b[49m\u001b[43m=\u001b[49m\u001b[43mexecution_config\u001b[49m\u001b[43m.\u001b[49m\u001b[43mmcm_config\u001b[49m\u001b[43m.\u001b[49m\u001b[43mpostselect_mode\u001b[49m\u001b[43m,\u001b[49m\n\u001b[32m    640\u001b[39m \u001b[43m        \u001b[49m\u001b[43m)\u001b[49m\n\u001b[32m    641\u001b[39m     )\n\u001b[32m    643\u001b[39m \u001b[38;5;28;01mreturn\u001b[39;00m \u001b[38;5;28mtuple\u001b[39m(results)\n",
      "\u001b[36mFile \u001b[39m\u001b[32m~/Documents/project/thesis_code/.venv.thesis/lib/python3.12/site-packages/pennylane_lightning/lightning_qubit/lightning_qubit.py:108\u001b[39m, in \u001b[36msimulate\u001b[39m\u001b[34m(circuit, state, mcmc, postselect_mode)\u001b[39m\n\u001b[32m    102\u001b[39m         results.append(\n\u001b[32m    103\u001b[39m             LightningMeasurements(final_state, **mcmc).measure_final_state(\n\u001b[32m    104\u001b[39m                 aux_circ, mid_measurements=mid_measurements\n\u001b[32m    105\u001b[39m             )\n\u001b[32m    106\u001b[39m         )\n\u001b[32m    107\u001b[39m     \u001b[38;5;28;01mreturn\u001b[39;00m \u001b[38;5;28mtuple\u001b[39m(results)\n\u001b[32m--> \u001b[39m\u001b[32m108\u001b[39m final_state = \u001b[43mstate\u001b[49m\u001b[43m.\u001b[49m\u001b[43mget_final_state\u001b[49m\u001b[43m(\u001b[49m\u001b[43mcircuit\u001b[49m\u001b[43m)\u001b[49m\n\u001b[32m    109\u001b[39m \u001b[38;5;28;01mreturn\u001b[39;00m LightningMeasurements(final_state, **mcmc).measure_final_state(circuit)\n",
      "\u001b[36mFile \u001b[39m\u001b[32m~/Documents/project/thesis_code/.venv.thesis/lib/python3.12/site-packages/pennylane_lightning/lightning_qubit/_state_vector.py:373\u001b[39m, in \u001b[36mLightningStateVector.get_final_state\u001b[39m\u001b[34m(self, circuit, mid_measurements, postselect_mode)\u001b[39m\n\u001b[32m    351\u001b[39m \u001b[38;5;28;01mdef\u001b[39;00m\u001b[38;5;250m \u001b[39m\u001b[34mget_final_state\u001b[39m(\n\u001b[32m    352\u001b[39m     \u001b[38;5;28mself\u001b[39m,\n\u001b[32m    353\u001b[39m     circuit: QuantumScript,\n\u001b[32m    354\u001b[39m     mid_measurements: \u001b[38;5;28mdict\u001b[39m = \u001b[38;5;28;01mNone\u001b[39;00m,\n\u001b[32m    355\u001b[39m     postselect_mode: \u001b[38;5;28mstr\u001b[39m = \u001b[38;5;28;01mNone\u001b[39;00m,\n\u001b[32m    356\u001b[39m ):\n\u001b[32m    357\u001b[39m \u001b[38;5;250m    \u001b[39m\u001b[33;03m\"\"\"\u001b[39;00m\n\u001b[32m    358\u001b[39m \u001b[33;03m    Get the final state that results from executing the given quantum script.\u001b[39;00m\n\u001b[32m    359\u001b[39m \n\u001b[32m   (...)\u001b[39m\u001b[32m    371\u001b[39m \n\u001b[32m    372\u001b[39m \u001b[33;03m    \"\"\"\u001b[39;00m\n\u001b[32m--> \u001b[39m\u001b[32m373\u001b[39m     \u001b[38;5;28;43mself\u001b[39;49m\u001b[43m.\u001b[49m\u001b[43mapply_operations\u001b[49m\u001b[43m(\u001b[49m\n\u001b[32m    374\u001b[39m \u001b[43m        \u001b[49m\u001b[43mcircuit\u001b[49m\u001b[43m.\u001b[49m\u001b[43moperations\u001b[49m\u001b[43m,\u001b[49m\u001b[43m \u001b[49m\u001b[43mmid_measurements\u001b[49m\u001b[43m=\u001b[49m\u001b[43mmid_measurements\u001b[49m\u001b[43m,\u001b[49m\u001b[43m \u001b[49m\u001b[43mpostselect_mode\u001b[49m\u001b[43m=\u001b[49m\u001b[43mpostselect_mode\u001b[49m\n\u001b[32m    375\u001b[39m \u001b[43m    \u001b[49m\u001b[43m)\u001b[49m\n\u001b[32m    377\u001b[39m     \u001b[38;5;28;01mreturn\u001b[39;00m \u001b[38;5;28mself\u001b[39m\n",
      "\u001b[36mFile \u001b[39m\u001b[32m~/Documents/project/thesis_code/.venv.thesis/lib/python3.12/site-packages/pennylane_lightning/lightning_qubit/_state_vector.py:347\u001b[39m, in \u001b[36mLightningStateVector.apply_operations\u001b[39m\u001b[34m(self, operations, mid_measurements, postselect_mode)\u001b[39m\n\u001b[32m    344\u001b[39m         \u001b[38;5;28mself\u001b[39m._apply_basis_state(operations[\u001b[32m0\u001b[39m].parameters[\u001b[32m0\u001b[39m], operations[\u001b[32m0\u001b[39m].wires)\n\u001b[32m    345\u001b[39m         operations = operations[\u001b[32m1\u001b[39m:]\n\u001b[32m--> \u001b[39m\u001b[32m347\u001b[39m \u001b[38;5;28;43mself\u001b[39;49m\u001b[43m.\u001b[49m\u001b[43m_apply_lightning\u001b[49m\u001b[43m(\u001b[49m\n\u001b[32m    348\u001b[39m \u001b[43m    \u001b[49m\u001b[43moperations\u001b[49m\u001b[43m,\u001b[49m\u001b[43m \u001b[49m\u001b[43mmid_measurements\u001b[49m\u001b[43m=\u001b[49m\u001b[43mmid_measurements\u001b[49m\u001b[43m,\u001b[49m\u001b[43m \u001b[49m\u001b[43mpostselect_mode\u001b[49m\u001b[43m=\u001b[49m\u001b[43mpostselect_mode\u001b[49m\n\u001b[32m    349\u001b[39m \u001b[43m\u001b[49m\u001b[43m)\u001b[49m\n",
      "\u001b[36mFile \u001b[39m\u001b[32m~/Documents/project/thesis_code/.venv.thesis/lib/python3.12/site-packages/pennylane_lightning/lightning_qubit/_state_vector.py:310\u001b[39m, in \u001b[36mLightningStateVector._apply_lightning\u001b[39m\u001b[34m(self, operations, mid_measurements, postselect_mode)\u001b[39m\n\u001b[32m    308\u001b[39m     invert_param = \u001b[38;5;28;01mFalse\u001b[39;00m\n\u001b[32m    309\u001b[39m method = \u001b[38;5;28mgetattr\u001b[39m(state, name, \u001b[38;5;28;01mNone\u001b[39;00m)\n\u001b[32m--> \u001b[39m\u001b[32m310\u001b[39m wires = \u001b[38;5;28mlist\u001b[39m(\u001b[43moperation\u001b[49m\u001b[43m.\u001b[49m\u001b[43mwires\u001b[49m)\n\u001b[32m    312\u001b[39m \u001b[38;5;28;01mif\u001b[39;00m \u001b[38;5;28misinstance\u001b[39m(operation, Conditional):\n\u001b[32m    313\u001b[39m     \u001b[38;5;28;01mif\u001b[39;00m operation.meas_val.concretize(mid_measurements):\n",
      "\u001b[36mFile \u001b[39m\u001b[32m~/Documents/project/thesis_code/.venv.thesis/lib/python3.12/site-packages/pennylane/ops/op_math/controlled.py:522\u001b[39m, in \u001b[36mControlled.wires\u001b[39m\u001b[34m(self)\u001b[39m\n\u001b[32m    520\u001b[39m \u001b[38;5;129m@property\u001b[39m\n\u001b[32m    521\u001b[39m \u001b[38;5;28;01mdef\u001b[39;00m\u001b[38;5;250m \u001b[39m\u001b[34mwires\u001b[39m(\u001b[38;5;28mself\u001b[39m):\n\u001b[32m--> \u001b[39m\u001b[32m522\u001b[39m     \u001b[38;5;28;01mreturn\u001b[39;00m \u001b[38;5;28;43mself\u001b[39;49m\u001b[43m.\u001b[49m\u001b[43mcontrol_wires\u001b[49m\u001b[43m \u001b[49m\u001b[43m+\u001b[49m\u001b[43m \u001b[49m\u001b[38;5;28;43mself\u001b[39;49m\u001b[43m.\u001b[49m\u001b[43mtarget_wires\u001b[49m\n",
      "\u001b[36mFile \u001b[39m\u001b[32m~/Documents/project/thesis_code/.venv.thesis/lib/python3.12/site-packages/pennylane/wires.py:179\u001b[39m, in \u001b[36mWires.__add__\u001b[39m\u001b[34m(self, other)\u001b[39m\n\u001b[32m    163\u001b[39m \u001b[38;5;28;01mdef\u001b[39;00m\u001b[38;5;250m \u001b[39m\u001b[34m__add__\u001b[39m(\u001b[38;5;28mself\u001b[39m, other):\n\u001b[32m    164\u001b[39m \u001b[38;5;250m    \u001b[39m\u001b[33;03m\"\"\"Defines the addition to return a Wires object containing all wires of the two terms.\u001b[39;00m\n\u001b[32m    165\u001b[39m \n\u001b[32m    166\u001b[39m \u001b[33;03m    Args:\u001b[39;00m\n\u001b[32m   (...)\u001b[39m\u001b[32m    177\u001b[39m \u001b[33;03m    Wires([4, 0, 1, 2])\u001b[39;00m\n\u001b[32m    178\u001b[39m \u001b[33;03m    \"\"\"\u001b[39;00m\n\u001b[32m--> \u001b[39m\u001b[32m179\u001b[39m     other = \u001b[43mWires\u001b[49m\u001b[43m(\u001b[49m\u001b[43mother\u001b[49m\u001b[43m)\u001b[49m\n\u001b[32m    180\u001b[39m     \u001b[38;5;28;01mreturn\u001b[39;00m Wires.all_wires([\u001b[38;5;28mself\u001b[39m, other])\n",
      "\u001b[31mKeyboardInterrupt\u001b[39m: "
     ]
    }
   ],
   "source": [
    "\n",
    "train_df, test_df = load_data(TRAIN_CSV, TEST_CSV, PC_COLS, ALL_CLASSES)\n",
    "\n",
    "angle_scales = build_angle_scaler(train_df, PC_COLS, clip=ANGLE_CLIP)\n",
    "X_train = apply_angle_scaler(train_df, PC_COLS, angle_scales).astype(np.float64)\n",
    "X_test  = apply_angle_scaler(test_df,  PC_COLS, angle_scales).astype(np.float64)\n",
    "\n",
    "results = {}\n",
    "for cls in ALL_CLASSES:\n",
    "    print(\"\\n=== OVR:\", cls, \"===\")\n",
    "    y_train = one_vs_rest_labels(train_df, cls).astype(np.float64)\n",
    "    y_test  = one_vs_rest_labels(test_df,  cls).astype(np.float64)\n",
    "\n",
    "    pos = y_train.sum(); neg = len(y_train) - pos\n",
    "    pos_weight = float(neg / max(1.0, pos))\n",
    "    loss_fn = lambda p,X,y: bce_loss_weighted(p, X, y, pos_weight=pos_weight)\n",
    "\n",
    "    params, losses = train_binary_spsa(\n",
    "        X_train, y_train,\n",
    "        max_iters=MAX_ITERS, batch_size=BATCH_SIZE,\n",
    "        stepsize=SPSA_STEPSIZE, perturb=SPSA_PERTURB,\n",
    "        log_every=LOG_EVERY, resamplings=RESAMPLINGS, seed=SEED,\n",
    "        loss_fn=loss_fn\n",
    "    )\n",
    "\n",
    "    def probs(p, X): return np.asarray(predict_probs(p, X), dtype=np.float64)\n",
    "    p_tr = probs(params, X_train); p_te = probs(params, X_test)\n",
    "    yhat_tr = (p_tr >= 0.5).astype(int); yhat_te = (p_te >= 0.5).astype(int)\n",
    "\n",
    "    def safe_auc(y_true, s):\n",
    "        try: return roc_auc_score(y_true, s)\n",
    "        except Exception: return np.nan\n",
    "\n",
    "    acc_tr = accuracy_score(y_train, yhat_tr)\n",
    "    acc_te = accuracy_score(y_test,  yhat_te)\n",
    "    auc_tr = safe_auc(y_train, p_tr); auc_te = safe_auc(y_test,  p_te)\n",
    "    print(f\"[{cls}] train acc={acc_tr:.3f} auc={auc_tr:.3f} | test acc={acc_te:.3f} auc={auc_te:.3f}\")\n",
    "\n",
    "    theta, W, b = unpack_params(params)\n",
    "    cls_dir = OUT_DIR / cls; cls_dir.mkdir(parents=True, exist_ok=True)\n",
    "    np.savez(cls_dir / \"params.npz\",\n",
    "             theta_single=np.asarray(theta[\"single\"]),\n",
    "             theta_ent=np.asarray(theta[\"ent\"]),\n",
    "             theta_ising=np.asarray(theta[\"ising\"]),\n",
    "             theta_mix=np.asarray(theta[\"mix\"]),\n",
    "             W=np.asarray(W), b=float(b),\n",
    "             layers=LAYERS, n_qubits=N_QUBITS)\n",
    "    np.savetxt(cls_dir / \"losses.txt\", losses)\n",
    "\n",
    "    try:\n",
    "        plt.figure(); plt.plot(losses); plt.xlabel(\"Iter\"); plt.ylabel(\"Loss\"); plt.title(f\"Loss — {cls}\"); plt.tight_layout()\n",
    "        plt.savefig(cls_dir / \"loss.png\", dpi=150); plt.close()\n",
    "    except Exception: pass\n",
    "\n",
    "    results[cls] = {\"train_acc\": float(acc_tr), \"test_acc\": float(acc_te),\n",
    "                    \"train_auc\": None if np.isnan(auc_tr) else float(auc_tr),\n",
    "                    \"test_auc\":  None if np.isnan(auc_te) else float(auc_te)}\n",
    "\n",
    "with open(OUT_DIR / \"angle_scales.json\", \"w\") as f:\n",
    "    json.dump(angle_scales, f, indent=2)\n",
    "\n",
    "print(\"\\nSaved models to:\", OUT_DIR.resolve())\n",
    "pd.DataFrame(results).T\n"
   ]
  },
  {
   "cell_type": "markdown",
   "id": "8918b035",
   "metadata": {},
   "source": [
    "## Multiclass evaluation"
   ]
  },
  {
   "cell_type": "code",
   "execution_count": null,
   "id": "501be05c",
   "metadata": {},
   "outputs": [],
   "source": [
    "\n",
    "def load_class_params(cls):\n",
    "    d = np.load(OUT_DIR / cls / \"params.npz\", allow_pickle=True)\n",
    "    theta = {\"single\": d[\"theta_single\"], \"ent\": d[\"theta_ent\"], \"ising\": d[\"theta_ising\"], \"mix\": d[\"theta_mix\"]}\n",
    "    W = d[\"W\"]; b = float(d[\"b\"])\n",
    "    return theta, W, b\n",
    "\n",
    "def predict_proba_ovr(X, classes):\n",
    "    scores = []\n",
    "    for cls in classes:\n",
    "        theta, W, b = load_class_params(cls)\n",
    "        vec = []\n",
    "        for i in range(X.shape[0]):\n",
    "            evs = vqc_qnode(X[i], theta)\n",
    "            vec.append(1/(1+np.exp(-(np.dot(W, evs) + b))))\n",
    "        scores.append(np.asarray(vec, dtype=np.float64))\n",
    "    return np.stack(scores, axis=1)\n",
    "\n",
    "proba_te = predict_proba_ovr(X_test, ALL_CLASSES)\n",
    "pred_idx = np.argmax(proba_te, axis=1)\n",
    "pred_lbl = [ALL_CLASSES[i] for i in pred_idx]\n",
    "true_lbl = test_df[\"emotion\"].tolist()\n",
    "\n",
    "acc_multi = accuracy_score(true_lbl, pred_lbl)\n",
    "print(\"Multiclass test accuracy:\", round(acc_multi, 3))\n",
    "print(\"\\nClassification report:\\n\", classification_report(true_lbl, pred_lbl, labels=ALL_CLASSES))\n",
    "print(\"Confusion matrix (rows=true, cols=pred):\\n\", confusion_matrix(true_lbl, pred_lbl, labels=ALL_CLASSES))\n"
   ]
  },
  {
   "cell_type": "markdown",
   "id": "2563e295",
   "metadata": {},
   "source": [
    "## Circuit visualization"
   ]
  },
  {
   "cell_type": "code",
   "execution_count": null,
   "id": "84e9a6a0",
   "metadata": {},
   "outputs": [],
   "source": [
    "\n",
    "sample_feats = np.zeros(6)\n",
    "theta_vis = {\n",
    "    \"single\": np.zeros((LAYERS, N_QUBITS, 2)),\n",
    "    \"ent\":    np.zeros((LAYERS, N_QUBITS, 2)),\n",
    "    \"ising\":  np.zeros((LAYERS, N_QUBITS)),\n",
    "    \"mix\":    np.zeros((LAYERS, N_QUBITS, 1)),\n",
    "}\n",
    "print(qml.draw(vqc_qnode)(sample_feats, theta_vis))\n",
    "fig, ax = qml.draw_mpl(vqc_qnode)(sample_feats, theta_vis)\n",
    "fig.set_size_inches(12, 4)\n",
    "fig.set_constrained_layout(True)\n",
    "png_path = OUT_DIR / \"circuit_vqc3_6pca.png\"\n",
    "fig.savefig(png_path, dpi=200)\n",
    "plt.show()\n",
    "print(\"Saved figure →\", png_path.resolve())\n"
   ]
  }
 ],
 "metadata": {
  "kernelspec": {
   "display_name": ".venv.thesis",
   "language": "python",
   "name": "python3"
  },
  "language_info": {
   "codemirror_mode": {
    "name": "ipython",
    "version": 3
   },
   "file_extension": ".py",
   "mimetype": "text/x-python",
   "name": "python",
   "nbconvert_exporter": "python",
   "pygments_lexer": "ipython3",
   "version": "3.12.7"
  }
 },
 "nbformat": 4,
 "nbformat_minor": 5
}
