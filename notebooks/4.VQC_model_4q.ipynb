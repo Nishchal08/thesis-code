{
 "cells": [
  {
   "cell_type": "markdown",
   "id": "024af8f8",
   "metadata": {},
   "source": [
    "\n",
    "# Step 5c — 4‑Qubit Variational Quantum Classifier (VQC) with SPSA"
   ]
  },
  {
   "cell_type": "markdown",
   "id": "65d3f47e",
   "metadata": {},
   "source": [
    "This is a **stand‑alone** 4‑qubit VQC:\n",
    "- Inputs: **4 PCA features** → angle encoding on **4 qubits**\n",
    "- Ansatz: RY/RZ locals, ring **CRY/CRZ**, **IsingXX**, **Toffoli** ring, extra RY\n",
    "- Readout: **multi‑qubit** (⟨Z⟩ on each qubit) with a small linear head\n",
    "- Optimizer: **pure‑Python SPSA**, class‑weighted BCE, full‑batch by default\n",
    "- Strategy: **one‑vs‑rest** for 5‑way classification (angry, fearful, happy, neutral, sad)\n",
    "\n",
    "**Inputs required**: `../data/processed/pca4_train.csv`, `../data/processed/pca4_test.csv`"
   ]
  },
  {
   "cell_type": "markdown",
   "id": "3fc9fa6b",
   "metadata": {},
   "source": [
    "## Install (run if needed)"
   ]
  },
  {
   "cell_type": "code",
   "execution_count": 1,
   "id": "e459e9d4",
   "metadata": {},
   "outputs": [],
   "source": [
    "# %pip install pennylane pennylane-lightning pandas numpy scikit-learn matplotlib"
   ]
  },
  {
   "cell_type": "markdown",
   "id": "51a12e90",
   "metadata": {},
   "source": [
    "## Config"
   ]
  },
  {
   "cell_type": "code",
   "execution_count": 2,
   "id": "89f9fa6f",
   "metadata": {},
   "outputs": [
    {
     "name": "stdout",
     "output_type": "stream",
     "text": [
      "TRAIN_CSV: /Users/nishchalpokhrel/Documents/project/thesis_code/data/processed/pca4_train.csv\n",
      "TEST_CSV : /Users/nishchalpokhrel/Documents/project/thesis_code/data/processed/pca4_test.csv\n"
     ]
    }
   ],
   "source": [
    "\n",
    "from pathlib import Path\n",
    "import math\n",
    "\n",
    "BASE_DATA = Path(\"../data\")\n",
    "PROCESSED_DIR = BASE_DATA / \"processed\"\n",
    "\n",
    "TRAIN_CSV = PROCESSED_DIR / \"pca4_train.csv\"\n",
    "TEST_CSV  = PROCESSED_DIR / \"pca4_test.csv\"\n",
    "\n",
    "PC_COLS = [\"PC1\",\"PC2\",\"PC3\",\"PC4\"]\n",
    "N_QUBITS = len(PC_COLS)\n",
    "ALL_CLASSES = [\"angry\", \"fearful\", \"happy\", \"neutral\", \"sad\"]\n",
    "\n",
    "LAYERS = 2\n",
    "MAX_ITERS = 200\n",
    "BATCH_SIZE = None\n",
    "SEED = 7\n",
    "\n",
    "SPSA_STEPSIZE = 0.10\n",
    "SPSA_PERTURB  = 0.08\n",
    "LOG_EVERY = 10\n",
    "RESAMPLINGS = 3\n",
    "ANGLE_CLIP = math.pi\n",
    "\n",
    "OUT_DIR = PROCESSED_DIR / \"vqc4_models_spsa\"\n",
    "OUT_DIR.mkdir(parents=True, exist_ok=True)\n",
    "\n",
    "print(\"TRAIN_CSV:\", TRAIN_CSV.resolve())\n",
    "print(\"TEST_CSV :\", TEST_CSV.resolve())\n"
   ]
  },
  {
   "cell_type": "markdown",
   "id": "09a95557",
   "metadata": {},
   "source": [
    "## Debug — verify PCA(4) files exist"
   ]
  },
  {
   "cell_type": "code",
   "execution_count": 3,
   "id": "210048d1",
   "metadata": {},
   "outputs": [
    {
     "name": "stdout",
     "output_type": "stream",
     "text": [
      "PCA(4) files found ✓\n"
     ]
    }
   ],
   "source": [
    "\n",
    "missing = []\n",
    "if not TRAIN_CSV.exists(): missing.append(str(TRAIN_CSV))\n",
    "if not TEST_CSV.exists():  missing.append(str(TEST_CSV))\n",
    "if missing:\n",
    "    raise SystemExit(\"Missing required file(s):\\n  - \" + \"\\n  - \".join(missing))\n",
    "else:\n",
    "    print(\"PCA(4) files found ✓\")\n"
   ]
  },
  {
   "cell_type": "markdown",
   "id": "010b7dfb",
   "metadata": {},
   "source": [
    "## Imports & utilities"
   ]
  },
  {
   "cell_type": "code",
   "execution_count": 4,
   "id": "3613aef5",
   "metadata": {},
   "outputs": [],
   "source": [
    "\n",
    "import json, random\n",
    "import numpy as onp\n",
    "import numpy as np\n",
    "import pandas as pd\n",
    "import pennylane as qml\n",
    "from pennylane import numpy as pnp\n",
    "from sklearn.metrics import accuracy_score, roc_auc_score, classification_report, confusion_matrix\n",
    "import matplotlib.pyplot as plt\n",
    "\n",
    "pnp.random.seed(SEED); onp.random.seed(SEED); random.seed(SEED)\n",
    "\n",
    "def load_data(train_csv, test_csv, pc_cols, valid_classes):\n",
    "    tr = pd.read_csv(train_csv)\n",
    "    te = pd.read_csv(test_csv)\n",
    "    tr = tr[tr[\"emotion\"].isin(valid_classes)].reset_index(drop=True)\n",
    "    te = te[te[\"emotion\"].isin(valid_classes)].reset_index(drop=True)\n",
    "    for col in pc_cols + [\"emotion\"]:\n",
    "        assert col in tr.columns and col in te.columns, f\"Missing column: {col}\"\n",
    "    return tr, te\n",
    "\n",
    "def build_angle_scaler(train_df, pc_cols, clip=np.pi):\n",
    "    scales = {}\n",
    "    for k in pc_cols:\n",
    "        m = float(train_df[k].abs().max())\n",
    "        scales[k] = {\"denom\": max(1e-8, 1.1*m), \"clip\": clip}\n",
    "    return scales\n",
    "\n",
    "def apply_angle_scaler(df, pc_cols, scales):\n",
    "    X = df[pc_cols].to_numpy(onp.float32)\n",
    "    for j, key in enumerate(pc_cols):\n",
    "        d = scales[key][\"denom\"]; c = scales[key][\"clip\"]\n",
    "        X[:, j] = np.clip((X[:, j] / d) * c, -c, c)\n",
    "    return X\n",
    "\n",
    "def one_vs_rest_labels(df, positive_class):\n",
    "    return (df[\"emotion\"].values == positive_class).astype(onp.float64)\n"
   ]
  },
  {
   "cell_type": "markdown",
   "id": "206f86bd",
   "metadata": {},
   "source": [
    "## Quantum model — encoder + ansatz + multi‑qubit readout"
   ]
  },
  {
   "cell_type": "code",
   "execution_count": 5,
   "id": "4d47f738",
   "metadata": {},
   "outputs": [],
   "source": [
    "\n",
    "try:\n",
    "    dev = qml.device(\"lightning.qubit\", wires=N_QUBITS, shots=None)\n",
    "except Exception:\n",
    "    dev = qml.device(\"default.qubit\", wires=N_QUBITS, shots=None)\n",
    "\n",
    "def encode_angles(angles):\n",
    "    for i, ang in enumerate(angles):\n",
    "        qml.RY(ang, wires=i)\n",
    "\n",
    "def ansatz(theta):\n",
    "    L = theta[\"single\"].shape[0]\n",
    "    for l in range(L):\n",
    "        for q in range(N_QUBITS):\n",
    "            qml.RY(theta[\"single\"][l, q, 0], wires=q)\n",
    "            qml.RZ(theta[\"single\"][l, q, 1], wires=q)\n",
    "        for q in range(N_QUBITS):\n",
    "            qn = (q + 1) % N_QUBITS\n",
    "            qml.CRY(theta[\"ent\"][l, q, 0], wires=[q, qn])\n",
    "            qml.CRZ(theta[\"ent\"][l, q, 1], wires=[q, qn])\n",
    "        for q in range(N_QUBITS):\n",
    "            qn = (q + 1) % N_QUBITS\n",
    "            qml.IsingXX(theta[\"ising\"][l, q], wires=[q, qn])\n",
    "        if N_QUBITS >= 3:\n",
    "            for q in range(N_QUBITS):\n",
    "                q1, q2, tgt = q, (q+1) % N_QUBITS, (q+2) % N_QUBITS\n",
    "                qml.Toffoli(wires=[q1, q2, tgt])\n",
    "        for q in range(N_QUBITS):\n",
    "            qml.RY(theta[\"mix\"][l, q, 0], wires=q)\n",
    "\n",
    "@qml.qnode(dev)\n",
    "def vqc_multi(angles, theta):\n",
    "    encode_angles(angles)\n",
    "    ansatz(theta)\n",
    "    return [qml.expval(qml.PauliZ(i)) for i in range(N_QUBITS)]\n"
   ]
  },
  {
   "cell_type": "markdown",
   "id": "1c243dd8",
   "metadata": {},
   "source": [
    "## Parameter packing, prediction, and loss"
   ]
  },
  {
   "cell_type": "code",
   "execution_count": 6,
   "id": "97c9545d",
   "metadata": {},
   "outputs": [],
   "source": [
    "\n",
    "SINGLE_SZ = LAYERS * N_QUBITS * 2\n",
    "ENT_SZ    = LAYERS * N_QUBITS * 2\n",
    "ISING_SZ  = LAYERS * N_QUBITS * 1\n",
    "MIX_SZ    = LAYERS * N_QUBITS * 1\n",
    "THETA_SIZE = SINGLE_SZ + ENT_SZ + ISING_SZ + MIX_SZ\n",
    "READOUT_SIZE = N_QUBITS + 1\n",
    "\n",
    "def unpack_params(params):\n",
    "    idx = 0\n",
    "    single = params[idx: idx+SINGLE_SZ]; idx += SINGLE_SZ\n",
    "    ent    = params[idx: idx+ENT_SZ];    idx += ENT_SZ\n",
    "    ising  = params[idx: idx+ISING_SZ];  idx += ISING_SZ\n",
    "    mix    = params[idx: idx+MIX_SZ];    idx += MIX_SZ\n",
    "    single = single.reshape(LAYERS, N_QUBITS, 2)\n",
    "    ent    = ent.reshape(LAYERS, N_QUBITS, 2)\n",
    "    ising  = ising.reshape(LAYERS, N_QUBITS)\n",
    "    mix    = mix.reshape(LAYERS, N_QUBITS, 1)\n",
    "    W = params[idx: idx+N_QUBITS]; idx += N_QUBITS\n",
    "    b = params[idx]\n",
    "    theta = {\"single\": single, \"ent\": ent, \"ising\": ising, \"mix\": mix}\n",
    "    return theta, W, b\n",
    "\n",
    "def init_params(scale=0.1):\n",
    "    single0 = pnp.random.uniform(-scale, scale, size=(LAYERS, N_QUBITS, 2))\n",
    "    ent0    = pnp.random.uniform(-scale, scale, size=(LAYERS, N_QUBITS, 2))\n",
    "    ising0  = pnp.random.uniform(-scale, scale, size=(LAYERS, N_QUBITS))\n",
    "    mix0    = pnp.random.uniform(-scale, scale, size=(LAYERS, N_QUBITS, 1))\n",
    "    W0      = pnp.zeros(N_QUBITS); b0 = pnp.array(0.0)\n",
    "    flat = pnp.concatenate([single0.ravel(), ent0.ravel(), ising0.ravel(), mix0.ravel(), W0, pnp.array([b0])])\n",
    "    return flat\n",
    "\n",
    "def sigmoid(x): return 1/(1+pnp.exp(-x))\n",
    "\n",
    "def predict_probs(params, X):\n",
    "    theta, W, b = unpack_params(params)\n",
    "    outs = []\n",
    "    for i in range(X.shape[0]):\n",
    "        evs = pnp.array(vqc_multi(X[i], theta))\n",
    "        outs.append(sigmoid(pnp.dot(W, evs) + b))\n",
    "    return pnp.array(outs, dtype=pnp.float64)\n",
    "\n",
    "def bce_loss(params, X, y):\n",
    "    p = predict_probs(params, X); eps=1e-9\n",
    "    return -pnp.mean(y*pnp.log(p+eps) + (1-y)*pnp.log(1-p+eps))\n",
    "\n",
    "def bce_loss_weighted(params, X, y, pos_weight=1.0):\n",
    "    p = predict_probs(params, X); eps=1e-9\n",
    "    return -pnp.mean(pos_weight*y*pnp.log(p+eps) + 1.0*(1-y)*pnp.log(1-p+eps))\n"
   ]
  },
  {
   "cell_type": "markdown",
   "id": "0c87f9dd",
   "metadata": {},
   "source": [
    "## SPSA optimizer (pure‑Python)"
   ]
  },
  {
   "cell_type": "code",
   "execution_count": 7,
   "id": "eefd7f12",
   "metadata": {},
   "outputs": [],
   "source": [
    "\n",
    "def _spsa_schedule(k, a0=0.1, c0=0.1, A=None, alpha=0.602, gamma=0.101, max_iters=150):\n",
    "    if A is None: A = 0.1 * max_iters\n",
    "    ak = a0 / ((k + A) ** alpha)\n",
    "    ck = c0 / (k ** gamma)\n",
    "    return ak, ck\n",
    "\n",
    "def train_binary_spsa(X, y, max_iters=150, batch_size=None,\n",
    "                      stepsize=0.1, perturb=0.1, log_every=10,\n",
    "                      resamplings=1, seed=7, loss_fn=None):\n",
    "    rng = np.random.default_rng(seed)\n",
    "    n_params = THETA_SIZE + READOUT_SIZE\n",
    "    params = rng.uniform(-0.1, 0.1, size=n_params).astype(np.float64)\n",
    "    best_loss = float(\"inf\"); best_params = params.copy(); losses = []\n",
    "\n",
    "    def get_batch():\n",
    "        if batch_size is None or batch_size >= len(X): return X, y\n",
    "        idx = rng.permutation(len(X))[:batch_size]; return X[idx], y[idx]\n",
    "\n",
    "    if loss_fn is None: loss_fn = bce_loss\n",
    "\n",
    "    for it in range(1, max_iters+1):\n",
    "        Xb, yb = get_batch()\n",
    "        a_k, c_k = _spsa_schedule(it, a0=stepsize, c0=perturb, max_iters=max_iters)\n",
    "        ghat = np.zeros_like(params)\n",
    "        for _ in range(resamplings):\n",
    "            delta = rng.choice([-1.0, 1.0], size=n_params).astype(np.float64)\n",
    "            Lp = float(loss_fn(params + c_k*delta, Xb, yb))\n",
    "            Lm = float(loss_fn(params - c_k*delta, Xb, yb))\n",
    "            ghat += ((Lp - Lm)/(2.0*c_k)) * delta\n",
    "        ghat /= float(resamplings)\n",
    "        params = params - a_k * ghat\n",
    "        curr = float(loss_fn(params, Xb, yb)); losses.append(curr)\n",
    "        if curr < best_loss - 1e-9: best_loss, best_params = curr, params.copy()\n",
    "        if it % log_every == 0:\n",
    "            print(f\"iter {it:04d} | loss {curr:.4f} | best {best_loss:.4f} | a_k={a_k:.4g} c_k={c_k:.4g}\")\n",
    "    return best_params, np.array(losses, dtype=np.float64)\n"
   ]
  },
  {
   "cell_type": "markdown",
   "id": "c89e7a06",
   "metadata": {},
   "source": [
    "## Train one‑vs‑rest VQCs"
   ]
  },
  {
   "cell_type": "code",
   "execution_count": 8,
   "id": "258d4df8",
   "metadata": {},
   "outputs": [
    {
     "name": "stdout",
     "output_type": "stream",
     "text": [
      "\n",
      "=== OVR: angry ===\n",
      "iter 0010 | loss 1.0779 | best 1.0779 | a_k=0.01291 c_k=0.0634\n"
     ]
    },
    {
     "ename": "KeyboardInterrupt",
     "evalue": "",
     "output_type": "error",
     "traceback": [
      "\u001b[31m---------------------------------------------------------------------------\u001b[39m",
      "\u001b[31mKeyboardInterrupt\u001b[39m                         Traceback (most recent call last)",
      "\u001b[36mCell\u001b[39m\u001b[36m \u001b[39m\u001b[32mIn[8]\u001b[39m\u001b[32m, line 16\u001b[39m\n\u001b[32m     13\u001b[39m pos_weight = \u001b[38;5;28mfloat\u001b[39m(neg / \u001b[38;5;28mmax\u001b[39m(\u001b[32m1.0\u001b[39m, pos))\n\u001b[32m     14\u001b[39m loss_fn = \u001b[38;5;28;01mlambda\u001b[39;00m p,X,y: bce_loss_weighted(p, X, y, pos_weight=pos_weight)\n\u001b[32m---> \u001b[39m\u001b[32m16\u001b[39m params, losses = \u001b[43mtrain_binary_spsa\u001b[49m\u001b[43m(\u001b[49m\n\u001b[32m     17\u001b[39m \u001b[43m    \u001b[49m\u001b[43mX_train\u001b[49m\u001b[43m,\u001b[49m\u001b[43m \u001b[49m\u001b[43my_train\u001b[49m\u001b[43m,\u001b[49m\u001b[43m \u001b[49m\u001b[43mmax_iters\u001b[49m\u001b[43m=\u001b[49m\u001b[43mMAX_ITERS\u001b[49m\u001b[43m,\u001b[49m\u001b[43m \u001b[49m\u001b[43mbatch_size\u001b[49m\u001b[43m=\u001b[49m\u001b[43mBATCH_SIZE\u001b[49m\u001b[43m,\u001b[49m\n\u001b[32m     18\u001b[39m \u001b[43m    \u001b[49m\u001b[43mstepsize\u001b[49m\u001b[43m=\u001b[49m\u001b[43mSPSA_STEPSIZE\u001b[49m\u001b[43m,\u001b[49m\u001b[43m \u001b[49m\u001b[43mperturb\u001b[49m\u001b[43m=\u001b[49m\u001b[43mSPSA_PERTURB\u001b[49m\u001b[43m,\u001b[49m\u001b[43m \u001b[49m\u001b[43mlog_every\u001b[49m\u001b[43m=\u001b[49m\u001b[43mLOG_EVERY\u001b[49m\u001b[43m,\u001b[49m\n\u001b[32m     19\u001b[39m \u001b[43m    \u001b[49m\u001b[43mresamplings\u001b[49m\u001b[43m=\u001b[49m\u001b[43mRESAMPLINGS\u001b[49m\u001b[43m,\u001b[49m\u001b[43m \u001b[49m\u001b[43mseed\u001b[49m\u001b[43m=\u001b[49m\u001b[43mSEED\u001b[49m\u001b[43m,\u001b[49m\u001b[43m \u001b[49m\u001b[43mloss_fn\u001b[49m\u001b[43m=\u001b[49m\u001b[43mloss_fn\u001b[49m\n\u001b[32m     20\u001b[39m \u001b[43m\u001b[49m\u001b[43m)\u001b[49m\n\u001b[32m     22\u001b[39m \u001b[38;5;28;01mdef\u001b[39;00m\u001b[38;5;250m \u001b[39m\u001b[34mprobs\u001b[39m(p, X): \u001b[38;5;28;01mreturn\u001b[39;00m np.asarray(predict_probs(p, X), dtype=np.float64)\n\u001b[32m     23\u001b[39m p_tr = probs(params, X_train); p_te = probs(params, X_test)\n",
      "\u001b[36mCell\u001b[39m\u001b[36m \u001b[39m\u001b[32mIn[7]\u001b[39m\u001b[32m, line 27\u001b[39m, in \u001b[36mtrain_binary_spsa\u001b[39m\u001b[34m(X, y, max_iters, batch_size, stepsize, perturb, log_every, resamplings, seed, loss_fn)\u001b[39m\n\u001b[32m     25\u001b[39m \u001b[38;5;28;01mfor\u001b[39;00m _ \u001b[38;5;129;01min\u001b[39;00m \u001b[38;5;28mrange\u001b[39m(resamplings):\n\u001b[32m     26\u001b[39m     delta = rng.choice([-\u001b[32m1.0\u001b[39m, \u001b[32m1.0\u001b[39m], size=n_params).astype(np.float64)\n\u001b[32m---> \u001b[39m\u001b[32m27\u001b[39m     Lp = \u001b[38;5;28mfloat\u001b[39m(\u001b[43mloss_fn\u001b[49m\u001b[43m(\u001b[49m\u001b[43mparams\u001b[49m\u001b[43m \u001b[49m\u001b[43m+\u001b[49m\u001b[43m \u001b[49m\u001b[43mc_k\u001b[49m\u001b[43m*\u001b[49m\u001b[43mdelta\u001b[49m\u001b[43m,\u001b[49m\u001b[43m \u001b[49m\u001b[43mXb\u001b[49m\u001b[43m,\u001b[49m\u001b[43m \u001b[49m\u001b[43myb\u001b[49m\u001b[43m)\u001b[49m)\n\u001b[32m     28\u001b[39m     Lm = \u001b[38;5;28mfloat\u001b[39m(loss_fn(params - c_k*delta, Xb, yb))\n\u001b[32m     29\u001b[39m     ghat += ((Lp - Lm)/(\u001b[32m2.0\u001b[39m*c_k)) * delta\n",
      "\u001b[36mCell\u001b[39m\u001b[36m \u001b[39m\u001b[32mIn[8]\u001b[39m\u001b[32m, line 14\u001b[39m, in \u001b[36m<lambda>\u001b[39m\u001b[34m(p, X, y)\u001b[39m\n\u001b[32m     12\u001b[39m pos = y_train.sum(); neg = \u001b[38;5;28mlen\u001b[39m(y_train) - pos\n\u001b[32m     13\u001b[39m pos_weight = \u001b[38;5;28mfloat\u001b[39m(neg / \u001b[38;5;28mmax\u001b[39m(\u001b[32m1.0\u001b[39m, pos))\n\u001b[32m---> \u001b[39m\u001b[32m14\u001b[39m loss_fn = \u001b[38;5;28;01mlambda\u001b[39;00m p,X,y: \u001b[43mbce_loss_weighted\u001b[49m\u001b[43m(\u001b[49m\u001b[43mp\u001b[49m\u001b[43m,\u001b[49m\u001b[43m \u001b[49m\u001b[43mX\u001b[49m\u001b[43m,\u001b[49m\u001b[43m \u001b[49m\u001b[43my\u001b[49m\u001b[43m,\u001b[49m\u001b[43m \u001b[49m\u001b[43mpos_weight\u001b[49m\u001b[43m=\u001b[49m\u001b[43mpos_weight\u001b[49m\u001b[43m)\u001b[49m\n\u001b[32m     16\u001b[39m params, losses = train_binary_spsa(\n\u001b[32m     17\u001b[39m     X_train, y_train, max_iters=MAX_ITERS, batch_size=BATCH_SIZE,\n\u001b[32m     18\u001b[39m     stepsize=SPSA_STEPSIZE, perturb=SPSA_PERTURB, log_every=LOG_EVERY,\n\u001b[32m     19\u001b[39m     resamplings=RESAMPLINGS, seed=SEED, loss_fn=loss_fn\n\u001b[32m     20\u001b[39m )\n\u001b[32m     22\u001b[39m \u001b[38;5;28;01mdef\u001b[39;00m\u001b[38;5;250m \u001b[39m\u001b[34mprobs\u001b[39m(p, X): \u001b[38;5;28;01mreturn\u001b[39;00m np.asarray(predict_probs(p, X), dtype=np.float64)\n",
      "\u001b[36mCell\u001b[39m\u001b[36m \u001b[39m\u001b[32mIn[6]\u001b[39m\u001b[32m, line 47\u001b[39m, in \u001b[36mbce_loss_weighted\u001b[39m\u001b[34m(params, X, y, pos_weight)\u001b[39m\n\u001b[32m     46\u001b[39m \u001b[38;5;28;01mdef\u001b[39;00m\u001b[38;5;250m \u001b[39m\u001b[34mbce_loss_weighted\u001b[39m(params, X, y, pos_weight=\u001b[32m1.0\u001b[39m):\n\u001b[32m---> \u001b[39m\u001b[32m47\u001b[39m     p = \u001b[43mpredict_probs\u001b[49m\u001b[43m(\u001b[49m\u001b[43mparams\u001b[49m\u001b[43m,\u001b[49m\u001b[43m \u001b[49m\u001b[43mX\u001b[49m\u001b[43m)\u001b[49m; eps=\u001b[32m1e-9\u001b[39m\n\u001b[32m     48\u001b[39m     \u001b[38;5;28;01mreturn\u001b[39;00m -pnp.mean(pos_weight*y*pnp.log(p+eps) + \u001b[32m1.0\u001b[39m*(\u001b[32m1\u001b[39m-y)*pnp.log(\u001b[32m1\u001b[39m-p+eps))\n",
      "\u001b[36mCell\u001b[39m\u001b[36m \u001b[39m\u001b[32mIn[6]\u001b[39m\u001b[32m, line 38\u001b[39m, in \u001b[36mpredict_probs\u001b[39m\u001b[34m(params, X)\u001b[39m\n\u001b[32m     36\u001b[39m outs = []\n\u001b[32m     37\u001b[39m \u001b[38;5;28;01mfor\u001b[39;00m i \u001b[38;5;129;01min\u001b[39;00m \u001b[38;5;28mrange\u001b[39m(X.shape[\u001b[32m0\u001b[39m]):\n\u001b[32m---> \u001b[39m\u001b[32m38\u001b[39m     evs = pnp.array(\u001b[43mvqc_multi\u001b[49m\u001b[43m(\u001b[49m\u001b[43mX\u001b[49m\u001b[43m[\u001b[49m\u001b[43mi\u001b[49m\u001b[43m]\u001b[49m\u001b[43m,\u001b[49m\u001b[43m \u001b[49m\u001b[43mtheta\u001b[49m\u001b[43m)\u001b[49m)\n\u001b[32m     39\u001b[39m     outs.append(sigmoid(pnp.dot(W, evs) + b))\n\u001b[32m     40\u001b[39m \u001b[38;5;28;01mreturn\u001b[39;00m pnp.array(outs, dtype=pnp.float64)\n",
      "\u001b[36mFile \u001b[39m\u001b[32m~/Documents/project/thesis_code/.venv.thesis/lib/python3.12/site-packages/pennylane/workflow/qnode.py:1164\u001b[39m, in \u001b[36mQNode.__call__\u001b[39m\u001b[34m(self, *args, **kwargs)\u001b[39m\n\u001b[32m   1162\u001b[39m \u001b[38;5;28;01mif\u001b[39;00m qml.capture.enabled():\n\u001b[32m   1163\u001b[39m     \u001b[38;5;28;01mreturn\u001b[39;00m qml.capture.qnode_call(\u001b[38;5;28mself\u001b[39m, *args, **kwargs)\n\u001b[32m-> \u001b[39m\u001b[32m1164\u001b[39m \u001b[38;5;28;01mreturn\u001b[39;00m \u001b[38;5;28;43mself\u001b[39;49m\u001b[43m.\u001b[49m\u001b[43m_impl_call\u001b[49m\u001b[43m(\u001b[49m\u001b[43m*\u001b[49m\u001b[43margs\u001b[49m\u001b[43m,\u001b[49m\u001b[43m \u001b[49m\u001b[43m*\u001b[49m\u001b[43m*\u001b[49m\u001b[43mkwargs\u001b[49m\u001b[43m)\u001b[49m\n",
      "\u001b[36mFile \u001b[39m\u001b[32m~/Documents/project/thesis_code/.venv.thesis/lib/python3.12/site-packages/pennylane/workflow/qnode.py:1144\u001b[39m, in \u001b[36mQNode._impl_call\u001b[39m\u001b[34m(self, *args, **kwargs)\u001b[39m\n\u001b[32m   1141\u001b[39m     override_shots = kwargs[\u001b[33m\"\u001b[39m\u001b[33mshots\u001b[39m\u001b[33m\"\u001b[39m]\n\u001b[32m   1143\u001b[39m \u001b[38;5;66;03m# construct the tape\u001b[39;00m\n\u001b[32m-> \u001b[39m\u001b[32m1144\u001b[39m \u001b[38;5;28;43mself\u001b[39;49m\u001b[43m.\u001b[49m\u001b[43mconstruct\u001b[49m\u001b[43m(\u001b[49m\u001b[43margs\u001b[49m\u001b[43m,\u001b[49m\u001b[43m \u001b[49m\u001b[43mkwargs\u001b[49m\u001b[43m)\u001b[49m\n\u001b[32m   1146\u001b[39m original_grad_fn = [\u001b[38;5;28mself\u001b[39m.gradient_fn, \u001b[38;5;28mself\u001b[39m.gradient_kwargs, \u001b[38;5;28mself\u001b[39m.device]\n\u001b[32m   1147\u001b[39m \u001b[38;5;28mself\u001b[39m._update_gradient_fn(shots=override_shots, tape=\u001b[38;5;28mself\u001b[39m._tape)\n",
      "\u001b[36mFile \u001b[39m\u001b[32m~/Documents/project/thesis_code/.venv.thesis/lib/python3.12/site-packages/pennylane/logging/decorators.py:61\u001b[39m, in \u001b[36mlog_string_debug_func.<locals>.wrapper_entry\u001b[39m\u001b[34m(*args, **kwargs)\u001b[39m\n\u001b[32m     54\u001b[39m     s_caller = \u001b[33m\"\u001b[39m\u001b[33m::L\u001b[39m\u001b[33m\"\u001b[39m.join(\n\u001b[32m     55\u001b[39m         [\u001b[38;5;28mstr\u001b[39m(i) \u001b[38;5;28;01mfor\u001b[39;00m i \u001b[38;5;129;01min\u001b[39;00m inspect.getouterframes(inspect.currentframe(), \u001b[32m2\u001b[39m)[\u001b[32m1\u001b[39m][\u001b[32m1\u001b[39m:\u001b[32m3\u001b[39m]]\n\u001b[32m     56\u001b[39m     )\n\u001b[32m     57\u001b[39m     lgr.debug(\n\u001b[32m     58\u001b[39m         \u001b[33mf\u001b[39m\u001b[33m\"\u001b[39m\u001b[33mCalling \u001b[39m\u001b[38;5;132;01m{\u001b[39;00mf_string\u001b[38;5;132;01m}\u001b[39;00m\u001b[33m from \u001b[39m\u001b[38;5;132;01m{\u001b[39;00ms_caller\u001b[38;5;132;01m}\u001b[39;00m\u001b[33m\"\u001b[39m,\n\u001b[32m     59\u001b[39m         **_debug_log_kwargs,\n\u001b[32m     60\u001b[39m     )\n\u001b[32m---> \u001b[39m\u001b[32m61\u001b[39m \u001b[38;5;28;01mreturn\u001b[39;00m \u001b[43mfunc\u001b[49m\u001b[43m(\u001b[49m\u001b[43m*\u001b[49m\u001b[43margs\u001b[49m\u001b[43m,\u001b[49m\u001b[43m \u001b[49m\u001b[43m*\u001b[49m\u001b[43m*\u001b[49m\u001b[43mkwargs\u001b[49m\u001b[43m)\u001b[49m\n",
      "\u001b[36mFile \u001b[39m\u001b[32m~/Documents/project/thesis_code/.venv.thesis/lib/python3.12/site-packages/pennylane/workflow/qnode.py:966\u001b[39m, in \u001b[36mQNode.construct\u001b[39m\u001b[34m(self, args, kwargs)\u001b[39m\n\u001b[32m    964\u001b[39m \u001b[38;5;28;01mwith\u001b[39;00m pldb_device_manager(\u001b[38;5;28mself\u001b[39m.device):\n\u001b[32m    965\u001b[39m     \u001b[38;5;28;01mwith\u001b[39;00m qml.queuing.AnnotatedQueue() \u001b[38;5;28;01mas\u001b[39;00m q:\n\u001b[32m--> \u001b[39m\u001b[32m966\u001b[39m         \u001b[38;5;28mself\u001b[39m._qfunc_output = \u001b[38;5;28;43mself\u001b[39;49m\u001b[43m.\u001b[49m\u001b[43mfunc\u001b[49m\u001b[43m(\u001b[49m\u001b[43m*\u001b[49m\u001b[43margs\u001b[49m\u001b[43m,\u001b[49m\u001b[43m \u001b[49m\u001b[43m*\u001b[49m\u001b[43m*\u001b[49m\u001b[43mkwargs\u001b[49m\u001b[43m)\u001b[49m\n\u001b[32m    968\u001b[39m \u001b[38;5;28mself\u001b[39m._tape = QuantumScript.from_queue(q, shots)\n\u001b[32m    970\u001b[39m params = \u001b[38;5;28mself\u001b[39m.tape.get_parameters(trainable_only=\u001b[38;5;28;01mFalse\u001b[39;00m)\n",
      "\u001b[36mCell\u001b[39m\u001b[36m \u001b[39m\u001b[32mIn[5]\u001b[39m\u001b[32m, line 33\u001b[39m, in \u001b[36mvqc_multi\u001b[39m\u001b[34m(angles, theta)\u001b[39m\n\u001b[32m     30\u001b[39m \u001b[38;5;129m@qml\u001b[39m.qnode(dev)\n\u001b[32m     31\u001b[39m \u001b[38;5;28;01mdef\u001b[39;00m\u001b[38;5;250m \u001b[39m\u001b[34mvqc_multi\u001b[39m(angles, theta):\n\u001b[32m     32\u001b[39m     encode_angles(angles)\n\u001b[32m---> \u001b[39m\u001b[32m33\u001b[39m     \u001b[43mansatz\u001b[49m\u001b[43m(\u001b[49m\u001b[43mtheta\u001b[49m\u001b[43m)\u001b[49m\n\u001b[32m     34\u001b[39m     \u001b[38;5;28;01mreturn\u001b[39;00m [qml.expval(qml.PauliZ(i)) \u001b[38;5;28;01mfor\u001b[39;00m i \u001b[38;5;129;01min\u001b[39;00m \u001b[38;5;28mrange\u001b[39m(N_QUBITS)]\n",
      "\u001b[36mCell\u001b[39m\u001b[36m \u001b[39m\u001b[32mIn[5]\u001b[39m\u001b[32m, line 26\u001b[39m, in \u001b[36mansatz\u001b[39m\u001b[34m(theta)\u001b[39m\n\u001b[32m     24\u001b[39m     \u001b[38;5;28;01mfor\u001b[39;00m q \u001b[38;5;129;01min\u001b[39;00m \u001b[38;5;28mrange\u001b[39m(N_QUBITS):\n\u001b[32m     25\u001b[39m         q1, q2, tgt = q, (q+\u001b[32m1\u001b[39m) % N_QUBITS, (q+\u001b[32m2\u001b[39m) % N_QUBITS\n\u001b[32m---> \u001b[39m\u001b[32m26\u001b[39m         \u001b[43mqml\u001b[49m\u001b[43m.\u001b[49m\u001b[43mToffoli\u001b[49m\u001b[43m(\u001b[49m\u001b[43mwires\u001b[49m\u001b[43m=\u001b[49m\u001b[43m[\u001b[49m\u001b[43mq1\u001b[49m\u001b[43m,\u001b[49m\u001b[43m \u001b[49m\u001b[43mq2\u001b[49m\u001b[43m,\u001b[49m\u001b[43m \u001b[49m\u001b[43mtgt\u001b[49m\u001b[43m]\u001b[49m\u001b[43m)\u001b[49m\n\u001b[32m     27\u001b[39m \u001b[38;5;28;01mfor\u001b[39;00m q \u001b[38;5;129;01min\u001b[39;00m \u001b[38;5;28mrange\u001b[39m(N_QUBITS):\n\u001b[32m     28\u001b[39m     qml.RY(theta[\u001b[33m\"\u001b[39m\u001b[33mmix\u001b[39m\u001b[33m\"\u001b[39m][l, q, \u001b[32m0\u001b[39m], wires=q)\n",
      "\u001b[36mFile \u001b[39m\u001b[32m~/Documents/project/thesis_code/.venv.thesis/lib/python3.12/site-packages/pennylane/capture/capture_meta.py:89\u001b[39m, in \u001b[36mCaptureMeta.__call__\u001b[39m\u001b[34m(cls, *args, **kwargs)\u001b[39m\n\u001b[32m     85\u001b[39m \u001b[38;5;28;01mif\u001b[39;00m enabled():\n\u001b[32m     86\u001b[39m     \u001b[38;5;66;03m# when tracing is enabled, we want to\u001b[39;00m\n\u001b[32m     87\u001b[39m     \u001b[38;5;66;03m# use bind to construct the class if we want class construction to add it to the jaxpr\u001b[39;00m\n\u001b[32m     88\u001b[39m     \u001b[38;5;28;01mreturn\u001b[39;00m \u001b[38;5;28mcls\u001b[39m._primitive_bind_call(*args, **kwargs)\n\u001b[32m---> \u001b[39m\u001b[32m89\u001b[39m \u001b[38;5;28;01mreturn\u001b[39;00m \u001b[38;5;28;43mtype\u001b[39;49m\u001b[43m.\u001b[49m\u001b[34;43m__call__\u001b[39;49m\u001b[43m(\u001b[49m\u001b[38;5;28;43mcls\u001b[39;49m\u001b[43m,\u001b[49m\u001b[43m \u001b[49m\u001b[43m*\u001b[49m\u001b[43margs\u001b[49m\u001b[43m,\u001b[49m\u001b[43m \u001b[49m\u001b[43m*\u001b[49m\u001b[43m*\u001b[49m\u001b[43mkwargs\u001b[49m\u001b[43m)\u001b[49m\n",
      "\u001b[36mFile \u001b[39m\u001b[32m~/Documents/project/thesis_code/.venv.thesis/lib/python3.12/site-packages/pennylane/ops/op_math/controlled_ops.py:877\u001b[39m, in \u001b[36mToffoli.__init__\u001b[39m\u001b[34m(self, wires, id)\u001b[39m\n\u001b[32m    875\u001b[39m control_wires = wires[:\u001b[32m2\u001b[39m]\n\u001b[32m    876\u001b[39m target_wires = wires[\u001b[32m2\u001b[39m:]\n\u001b[32m--> \u001b[39m\u001b[32m877\u001b[39m \u001b[38;5;28;43msuper\u001b[39;49m\u001b[43m(\u001b[49m\u001b[43m)\u001b[49m\u001b[43m.\u001b[49m\u001b[34;43m__init__\u001b[39;49m\u001b[43m(\u001b[49m\u001b[43mqml\u001b[49m\u001b[43m.\u001b[49m\u001b[43mPauliX\u001b[49m\u001b[43m(\u001b[49m\u001b[43mwires\u001b[49m\u001b[43m=\u001b[49m\u001b[43mtarget_wires\u001b[49m\u001b[43m)\u001b[49m\u001b[43m,\u001b[49m\u001b[43m \u001b[49m\u001b[43mcontrol_wires\u001b[49m\u001b[43m,\u001b[49m\u001b[43m \u001b[49m\u001b[38;5;28;43mid\u001b[39;49m\u001b[43m=\u001b[49m\u001b[38;5;28;43mid\u001b[39;49m\u001b[43m)\u001b[49m\n",
      "\u001b[36mFile \u001b[39m\u001b[32m~/Documents/project/thesis_code/.venv.thesis/lib/python3.12/site-packages/pennylane/ops/op_math/controlled.py:838\u001b[39m, in \u001b[36mControlledOp.__init__\u001b[39m\u001b[34m(self, base, control_wires, control_values, work_wires, id)\u001b[39m\n\u001b[32m    837\u001b[39m \u001b[38;5;28;01mdef\u001b[39;00m\u001b[38;5;250m \u001b[39m\u001b[34m__init__\u001b[39m(\u001b[38;5;28mself\u001b[39m, base, control_wires, control_values=\u001b[38;5;28;01mNone\u001b[39;00m, work_wires=\u001b[38;5;28;01mNone\u001b[39;00m, \u001b[38;5;28mid\u001b[39m=\u001b[38;5;28;01mNone\u001b[39;00m):\n\u001b[32m--> \u001b[39m\u001b[32m838\u001b[39m     \u001b[38;5;28;43msuper\u001b[39;49m\u001b[43m(\u001b[49m\u001b[43m)\u001b[49m\u001b[43m.\u001b[49m\u001b[34;43m__init__\u001b[39;49m\u001b[43m(\u001b[49m\u001b[43mbase\u001b[49m\u001b[43m,\u001b[49m\u001b[43m \u001b[49m\u001b[43mcontrol_wires\u001b[49m\u001b[43m,\u001b[49m\u001b[43m \u001b[49m\u001b[43mcontrol_values\u001b[49m\u001b[43m,\u001b[49m\u001b[43m \u001b[49m\u001b[43mwork_wires\u001b[49m\u001b[43m,\u001b[49m\u001b[43m \u001b[49m\u001b[38;5;28;43mid\u001b[39;49m\u001b[43m)\u001b[49m\n\u001b[32m    839\u001b[39m     \u001b[38;5;66;03m# check the grad_recipe validity\u001b[39;00m\n\u001b[32m    840\u001b[39m     \u001b[38;5;28;01mif\u001b[39;00m \u001b[38;5;28mself\u001b[39m.grad_recipe \u001b[38;5;129;01mis\u001b[39;00m \u001b[38;5;28;01mNone\u001b[39;00m:\n\u001b[32m    841\u001b[39m         \u001b[38;5;66;03m# Make sure grad_recipe is an iterable of correct length instead of None\u001b[39;00m\n",
      "\u001b[36mFile \u001b[39m\u001b[32m~/Documents/project/thesis_code/.venv.thesis/lib/python3.12/site-packages/pennylane/ops/op_math/controlled.py:432\u001b[39m, in \u001b[36mControlled.__init__\u001b[39m\u001b[34m(self, base, control_wires, control_values, work_wires, id)\u001b[39m\n\u001b[32m    429\u001b[39m \u001b[38;5;28;01mif\u001b[39;00m \u001b[38;5;28mlen\u001b[39m(Wires.shared_wires([base.wires, control_wires])) != \u001b[32m0\u001b[39m:\n\u001b[32m    430\u001b[39m     \u001b[38;5;28;01mraise\u001b[39;00m \u001b[38;5;167;01mValueError\u001b[39;00m(\u001b[33m\"\u001b[39m\u001b[33mThe control wires must be different from the base operation wires.\u001b[39m\u001b[33m\"\u001b[39m)\n\u001b[32m--> \u001b[39m\u001b[32m432\u001b[39m \u001b[38;5;28;01mif\u001b[39;00m \u001b[38;5;28mlen\u001b[39m(Wires.shared_wires([work_wires, \u001b[43mbase\u001b[49m\u001b[43m.\u001b[49m\u001b[43mwires\u001b[49m\u001b[43m \u001b[49m\u001b[43m+\u001b[49m\u001b[43m \u001b[49m\u001b[43mcontrol_wires\u001b[49m])) != \u001b[32m0\u001b[39m:\n\u001b[32m    433\u001b[39m     \u001b[38;5;28;01mraise\u001b[39;00m \u001b[38;5;167;01mValueError\u001b[39;00m(\n\u001b[32m    434\u001b[39m         \u001b[33m\"\u001b[39m\u001b[33mWork wires must be different the control_wires and base operation wires.\u001b[39m\u001b[33m\"\u001b[39m\n\u001b[32m    435\u001b[39m     )\n\u001b[32m    437\u001b[39m \u001b[38;5;28mself\u001b[39m.hyperparameters[\u001b[33m\"\u001b[39m\u001b[33mcontrol_wires\u001b[39m\u001b[33m\"\u001b[39m] = control_wires\n",
      "\u001b[36mFile \u001b[39m\u001b[32m~/Documents/project/thesis_code/.venv.thesis/lib/python3.12/site-packages/pennylane/wires.py:180\u001b[39m, in \u001b[36mWires.__add__\u001b[39m\u001b[34m(self, other)\u001b[39m\n\u001b[32m    164\u001b[39m \u001b[38;5;250m\u001b[39m\u001b[33;03m\"\"\"Defines the addition to return a Wires object containing all wires of the two terms.\u001b[39;00m\n\u001b[32m    165\u001b[39m \n\u001b[32m    166\u001b[39m \u001b[33;03mArgs:\u001b[39;00m\n\u001b[32m   (...)\u001b[39m\u001b[32m    177\u001b[39m \u001b[33;03mWires([4, 0, 1, 2])\u001b[39;00m\n\u001b[32m    178\u001b[39m \u001b[33;03m\"\"\"\u001b[39;00m\n\u001b[32m    179\u001b[39m other = Wires(other)\n\u001b[32m--> \u001b[39m\u001b[32m180\u001b[39m \u001b[38;5;28;01mreturn\u001b[39;00m \u001b[43mWires\u001b[49m\u001b[43m.\u001b[49m\u001b[43mall_wires\u001b[49m\u001b[43m(\u001b[49m\u001b[43m[\u001b[49m\u001b[38;5;28;43mself\u001b[39;49m\u001b[43m,\u001b[49m\u001b[43m \u001b[49m\u001b[43mother\u001b[49m\u001b[43m]\u001b[49m\u001b[43m)\u001b[49m\n",
      "\u001b[36mFile \u001b[39m\u001b[32m~/Documents/project/thesis_code/.venv.thesis/lib/python3.12/site-packages/pennylane/wires.py:440\u001b[39m, in \u001b[36mWires.all_wires\u001b[39m\u001b[34m(list_of_wires, sort)\u001b[39m\n\u001b[32m    436\u001b[39m converted_wires = (\n\u001b[32m    437\u001b[39m     wires \u001b[38;5;28;01mif\u001b[39;00m \u001b[38;5;28misinstance\u001b[39m(wires, Wires) \u001b[38;5;28;01melse\u001b[39;00m Wires(wires) \u001b[38;5;28;01mfor\u001b[39;00m wires \u001b[38;5;129;01min\u001b[39;00m list_of_wires\n\u001b[32m    438\u001b[39m )\n\u001b[32m    439\u001b[39m all_wires_list = itertools.chain(*(w.labels \u001b[38;5;28;01mfor\u001b[39;00m w \u001b[38;5;129;01min\u001b[39;00m converted_wires))\n\u001b[32m--> \u001b[39m\u001b[32m440\u001b[39m combined = \u001b[38;5;28;43mlist\u001b[39;49m\u001b[43m(\u001b[49m\u001b[38;5;28;43mdict\u001b[39;49m\u001b[43m.\u001b[49m\u001b[43mfromkeys\u001b[49m\u001b[43m(\u001b[49m\u001b[43mall_wires_list\u001b[49m\u001b[43m)\u001b[49m\u001b[43m)\u001b[49m\n\u001b[32m    442\u001b[39m \u001b[38;5;28;01mif\u001b[39;00m sort:\n\u001b[32m    443\u001b[39m     \u001b[38;5;28;01mif\u001b[39;00m \u001b[38;5;28mall\u001b[39m(\u001b[38;5;28misinstance\u001b[39m(w, \u001b[38;5;28mint\u001b[39m) \u001b[38;5;28;01mfor\u001b[39;00m w \u001b[38;5;129;01min\u001b[39;00m combined):\n",
      "\u001b[31mKeyboardInterrupt\u001b[39m: "
     ]
    }
   ],
   "source": [
    "\n",
    "train_df, test_df = load_data(TRAIN_CSV, TEST_CSV, PC_COLS, ALL_CLASSES)\n",
    "angle_scales = build_angle_scaler(train_df, PC_COLS, clip=ANGLE_CLIP)\n",
    "X_train = apply_angle_scaler(train_df, PC_COLS, angle_scales).astype(np.float64)\n",
    "X_test  = apply_angle_scaler(test_df,  PC_COLS, angle_scales).astype(np.float64)\n",
    "\n",
    "results = {}\n",
    "for cls in ALL_CLASSES:\n",
    "    print(\"\\n=== OVR:\", cls, \"===\")\n",
    "    y_train = one_vs_rest_labels(train_df, cls).astype(np.float64)\n",
    "    y_test  = one_vs_rest_labels(test_df,  cls).astype(np.float64)\n",
    "\n",
    "    pos = y_train.sum(); neg = len(y_train) - pos\n",
    "    pos_weight = float(neg / max(1.0, pos))\n",
    "    loss_fn = lambda p,X,y: bce_loss_weighted(p, X, y, pos_weight=pos_weight)\n",
    "\n",
    "    params, losses = train_binary_spsa(\n",
    "        X_train, y_train, max_iters=MAX_ITERS, batch_size=BATCH_SIZE,\n",
    "        stepsize=SPSA_STEPSIZE, perturb=SPSA_PERTURB, log_every=LOG_EVERY,\n",
    "        resamplings=RESAMPLINGS, seed=SEED, loss_fn=loss_fn\n",
    "    )\n",
    "\n",
    "    def probs(p, X): return np.asarray(predict_probs(p, X), dtype=np.float64)\n",
    "    p_tr = probs(params, X_train); p_te = probs(params, X_test)\n",
    "    yhat_tr = (p_tr >= 0.5).astype(int); yhat_te = (p_te >= 0.5).astype(int)\n",
    "\n",
    "    def safe_auc(y_true, s):\n",
    "        try: return roc_auc_score(y_true, s)\n",
    "        except Exception: return np.nan\n",
    "\n",
    "    acc_tr = accuracy_score(y_train, yhat_tr)\n",
    "    acc_te = accuracy_score(y_test,  yhat_te)\n",
    "    auc_tr = safe_auc(y_train, p_tr); auc_te = safe_auc(y_test,  p_te)\n",
    "    print(f\"[{cls}] train acc={acc_tr:.3f} auc={auc_tr:.3f} | test acc={acc_te:.3f} auc={auc_te:.3f}\")\n",
    "\n",
    "    theta, W, b = unpack_params(params)\n",
    "    cls_dir = OUT_DIR / cls; cls_dir.mkdir(parents=True, exist_ok=True)\n",
    "    np.savez(cls_dir / \"params.npz\",\n",
    "             theta_single=np.asarray(theta[\"single\"]),\n",
    "             theta_ent=np.asarray(theta[\"ent\"]),\n",
    "             theta_ising=np.asarray(theta[\"ising\"]),\n",
    "             theta_mix=np.asarray(theta[\"mix\"]),\n",
    "             W=np.asarray(W), b=float(b),\n",
    "             layers=LAYERS, n_qubits=N_QUBITS)\n",
    "    np.savetxt(cls_dir / \"losses.txt\", losses)\n",
    "\n",
    "    try:\n",
    "        plt.figure(); plt.plot(losses); plt.xlabel(\"Iter\"); plt.ylabel(\"Loss\"); plt.title(f\"Loss — {cls}\"); plt.tight_layout()\n",
    "        plt.savefig(cls_dir / \"loss.png\", dpi=150); plt.close()\n",
    "    except Exception: pass\n",
    "\n",
    "    results[cls] = {\"train_acc\": float(acc_tr), \"test_acc\": float(acc_te),\n",
    "                    \"train_auc\": None if np.isnan(auc_tr) else float(auc_tr),\n",
    "                    \"test_auc\":  None if np.isnan(auc_te) else float(auc_te)}\n",
    "\n",
    "with open(OUT_DIR / \"angle_scales.json\", \"w\") as f:\n",
    "    json.dump(angle_scales, f, indent=2)\n",
    "\n",
    "print(\"\\nSaved models to:\", OUT_DIR.resolve())\n",
    "import pandas as pd\n",
    "pd.DataFrame(results).T\n"
   ]
  },
  {
   "cell_type": "markdown",
   "id": "0fe04c4c",
   "metadata": {},
   "source": [
    "## Multiclass evaluation (argmax over OVR probabilities)"
   ]
  },
  {
   "cell_type": "code",
   "execution_count": null,
   "id": "b948bde2",
   "metadata": {},
   "outputs": [],
   "source": [
    "\n",
    "def load_class_params(cls):\n",
    "    d = np.load(OUT_DIR / cls / \"params.npz\", allow_pickle=True)\n",
    "    theta = {\"single\": d[\"theta_single\"], \"ent\": d[\"theta_ent\"], \"ising\": d[\"theta_ising\"], \"mix\": d[\"theta_mix\"]}\n",
    "    W = d[\"W\"]; b = float(d[\"b\"])\n",
    "    return theta, W, b\n",
    "\n",
    "def predict_proba_ovr(X, classes):\n",
    "    scores = []\n",
    "    for cls in classes:\n",
    "        theta, W, b = load_class_params(cls)\n",
    "        vec = []\n",
    "        for i in range(X.shape[0]):\n",
    "            evs = vqc_multi(X[i], theta)\n",
    "            vec.append(1/(1+np.exp(-(np.dot(W, evs) + b))))\n",
    "        scores.append(np.asarray(vec, dtype=np.float64))\n",
    "    return np.stack(scores, axis=1)  # (N, C)\n",
    "\n",
    "proba_te = predict_proba_ovr(X_test, ALL_CLASSES)\n",
    "pred_idx = np.argmax(proba_te, axis=1)\n",
    "pred_lbl = [ALL_CLASSES[i] for i in pred_idx]\n",
    "true_lbl = test_df[\"emotion\"].tolist()\n",
    "\n",
    "acc_multi = accuracy_score(true_lbl, pred_lbl)\n",
    "print(\"Multiclass test accuracy:\", round(acc_multi, 3))\n",
    "print(\"\\nClassification report:\\n\", classification_report(true_lbl, pred_lbl, labels=ALL_CLASSES))\n",
    "print(\"Confusion matrix (rows=true, cols=pred):\\n\", confusion_matrix(true_lbl, pred_lbl, labels=ALL_CLASSES))\n"
   ]
  },
  {
   "cell_type": "markdown",
   "id": "30c65b39",
   "metadata": {},
   "source": [
    "## Circuit visualization"
   ]
  },
  {
   "cell_type": "code",
   "execution_count": 9,
   "id": "a197d3ed",
   "metadata": {},
   "outputs": [
    {
     "name": "stdout",
     "output_type": "stream",
     "text": [
      "0: ──RY(0.21)───RY(0.00)──RZ(0.00)─╭●────────╭●───────────────────────────────────────────────\n",
      "1: ──RY(0.12)───RY(0.00)──RZ(0.00)─╰RY(0.00)─╰RZ(0.00)─╭●────────╭●───────────────────────────\n",
      "2: ──RY(-0.56)──RY(0.00)──RZ(0.00)─────────────────────╰RY(0.00)─╰RZ(0.00)─╭●────────╭●───────\n",
      "3: ──RY(0.56)───RY(0.00)──RZ(0.00)─────────────────────────────────────────╰RY(0.00)─╰RZ(0.00)\n",
      "\n",
      "──╭RY(0.00)─╭RZ(0.00)─╭IsingXX(0.00)───────────────────────────────╭IsingXX(0.00)─╭●────╭X─╭●\n",
      "──│─────────│─────────╰IsingXX(0.00)─╭IsingXX(0.00)────────────────│──────────────├●─╭●─│──├X\n",
      "──│─────────│────────────────────────╰IsingXX(0.00)─╭IsingXX(0.00)─│──────────────╰X─├●─├●─│─\n",
      "──╰●────────╰●──────────────────────────────────────╰IsingXX(0.00)─╰IsingXX(0.00)────╰X─╰●─╰●\n",
      "\n",
      "───RY(0.00)──RY(0.00)──RZ(0.00)─╭●────────╭●───────────────────────────────────────────────\n",
      "───RY(0.00)──RY(0.00)──RZ(0.00)─╰RY(0.00)─╰RZ(0.00)─╭●────────╭●───────────────────────────\n",
      "───RY(0.00)──RY(0.00)──RZ(0.00)─────────────────────╰RY(0.00)─╰RZ(0.00)─╭●────────╭●───────\n",
      "───RY(0.00)──RY(0.00)──RZ(0.00)─────────────────────────────────────────╰RY(0.00)─╰RZ(0.00)\n",
      "\n",
      "──╭RY(0.00)─╭RZ(0.00)─╭IsingXX(0.00)───────────────────────────────╭IsingXX(0.00)─╭●────╭X─╭●\n",
      "──│─────────│─────────╰IsingXX(0.00)─╭IsingXX(0.00)────────────────│──────────────├●─╭●─│──├X\n",
      "──│─────────│────────────────────────╰IsingXX(0.00)─╭IsingXX(0.00)─│──────────────╰X─├●─├●─│─\n",
      "──╰●────────╰●──────────────────────────────────────╰IsingXX(0.00)─╰IsingXX(0.00)────╰X─╰●─╰●\n",
      "\n",
      "───RY(0.00)─┤  <Z>\n",
      "───RY(0.00)─┤  <Z>\n",
      "───RY(0.00)─┤  <Z>\n",
      "───RY(0.00)─┤  <Z>\n"
     ]
    },
    {
     "name": "stderr",
     "output_type": "stream",
     "text": [
      "/var/folders/j_/78k8swfs0h5cbxl5zkwdzb400000gn/T/ipykernel_5208/772957791.py:11: UserWarning: This figure includes Axes that are not compatible with tight_layout, so results might be incorrect.\n",
      "  plt.tight_layout()\n"
     ]
    },
    {
     "data": {
      "image/png": "[encoded data removed]",
      "text/plain": [
       "<Figure size 1200x500 with 1 Axes>"
      ]
     },
     "metadata": {},
     "output_type": "display_data"
    },
    {
     "name": "stdout",
     "output_type": "stream",
     "text": [
      "Saved figure → /Users/nishchalpokhrel/Documents/project/thesis_code/data/processed/vqc4_models_spsa/circuit_vqc4.png\n"
     ]
    }
   ],
   "source": [
    "\n",
    "sample_angles = X_train[0] if \"X_train\" in globals() else np.zeros(N_QUBITS)\n",
    "theta_vis = {\n",
    "    \"single\": np.zeros((LAYERS, N_QUBITS, 2)),\n",
    "    \"ent\":    np.zeros((LAYERS, N_QUBITS, 2)),\n",
    "    \"ising\":  np.zeros((LAYERS, N_QUBITS)),\n",
    "    \"mix\":    np.zeros((LAYERS, N_QUBITS, 1)),\n",
    "}\n",
    "print(qml.draw(vqc_multi)(sample_angles, theta_vis))\n",
    "fig, ax = qml.draw_mpl(vqc_multi)(sample_angles, theta_vis)\n",
    "fig.set_size_inches(12, 3 + 0.5 * N_QUBITS)\n",
    "plt.tight_layout()\n",
    "from pathlib import Path as _P\n",
    "png_path = _P(OUT_DIR) / \"circuit_vqc4.png\"\n",
    "fig.savefig(png_path, dpi=200)\n",
    "plt.show()\n",
    "print(\"Saved figure →\", png_path.resolve())\n"
   ]
  }
 ],
 "metadata": {
  "kernelspec": {
   "display_name": ".venv.thesis",
   "language": "python",
   "name": "python3"
  },
  "language_info": {
   "codemirror_mode": {
    "name": "ipython",
    "version": 3
   },
   "file_extension": ".py",
   "mimetype": "text/x-python",
   "name": "python",
   "nbconvert_exporter": "python",
   "pygments_lexer": "ipython3",
   "version": "3.12.7"
  }
 },
 "nbformat": 4,
 "nbformat_minor": 5
}
